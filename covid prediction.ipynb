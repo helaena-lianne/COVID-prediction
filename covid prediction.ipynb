{
  "nbformat": 4,
  "nbformat_minor": 0,
  "metadata": {
    "colab": {
      "provenance": [],
      "collapsed_sections": [
        "VZ62mJcEUaar",
        "093pGpBQgUIH",
        "dj7e2IzPP3xF",
        "HKCKM09uPwhX",
        "U55TuSiZl1iv"
      ]
    },
    "kernelspec": {
      "name": "python3",
      "display_name": "Python 3"
    },
    "language_info": {
      "name": "python"
    }
  },
  "cells": [
    {
      "cell_type": "markdown",
      "source": [
        "## Data Preprocessing"
      ],
      "metadata": {
        "id": "U0C9Va9Ohfp_"
      }
    },
    {
      "cell_type": "markdown",
      "source": [
        "Import necessary libraries for data processing, visualization, and machine learning models"
      ],
      "metadata": {
        "id": "oH2aoCasMet3"
      }
    },
    {
      "cell_type": "code",
      "execution_count": null,
      "metadata": {
        "id": "2t9Wj_jKvDKu"
      },
      "outputs": [],
      "source": [
        "import os\n",
        "import re\n",
        "import PIL\n",
        "import numpy as np\n",
        "import pandas as pd\n",
        "import seaborn as sns\n",
        "from joblib import dump, load\n",
        "import matplotlib.pyplot as plt\n",
        "from sklearn.neighbors import KNeighborsClassifier\n",
        "from sklearn.ensemble import RandomForestClassifier\n",
        "from sklearn.model_selection import KFold, cross_val_score\n",
        "from sklearn.metrics import accuracy_score, classification_report, confusion_matrix\n",
        "from sklearn import ensemble, tree, svm, model_selection,\\\n",
        "                    preprocessing, feature_extraction, metrics, base, pipeline\n",
        "from imblearn.over_sampling import SMOTE\n",
        "from imblearn.under_sampling import RandomUnderSampler\n",
        "from sklearn.linear_model import LogisticRegression"
      ]
    },
    {
      "cell_type": "markdown",
      "source": [
        "Load the COVID dataset from Google Drive and display the first and last few rows"
      ],
      "metadata": {
        "id": "RGU_aGQbMji4"
      }
    },
    {
      "cell_type": "code",
      "source": [
        "df = pd.read_csv(\"/content/drive/MyDrive/Covid Data.csv\")\n",
        "display(df)"
      ],
      "metadata": {
        "colab": {
          "base_uri": "https://localhost:8080/",
          "height": 530
        },
        "id": "3QPC_3I3vgcG",
        "outputId": "787f55d6-d812-4802-dd9c-855e25777505"
      },
      "execution_count": null,
      "outputs": [
        {
          "output_type": "display_data",
          "data": {
            "text/plain": [
              "         USMER  MEDICAL_UNIT  SEX  PATIENT_TYPE   DATE_DIED  INTUBED  \\\n",
              "0            2             1    1             1  03/05/2020       97   \n",
              "1            2             1    2             1  03/06/2020       97   \n",
              "2            2             1    2             2  09/06/2020        1   \n",
              "3            2             1    1             1  12/06/2020       97   \n",
              "4            2             1    2             1  21/06/2020       97   \n",
              "...        ...           ...  ...           ...         ...      ...   \n",
              "1048570      2            13    2             1  9999-99-99       97   \n",
              "1048571      1            13    2             2  9999-99-99        2   \n",
              "1048572      2            13    2             1  9999-99-99       97   \n",
              "1048573      2            13    2             1  9999-99-99       97   \n",
              "1048574      2            13    2             1  9999-99-99       97   \n",
              "\n",
              "         PNEUMONIA  AGE  PREGNANT  DIABETES  ...  ASTHMA  INMSUPR  \\\n",
              "0                1   65         2         2  ...       2        2   \n",
              "1                1   72        97         2  ...       2        2   \n",
              "2                2   55        97         1  ...       2        2   \n",
              "3                2   53         2         2  ...       2        2   \n",
              "4                2   68        97         1  ...       2        2   \n",
              "...            ...  ...       ...       ...  ...     ...      ...   \n",
              "1048570          2   40        97         2  ...       2        2   \n",
              "1048571          2   51        97         2  ...       2        2   \n",
              "1048572          2   55        97         2  ...       2        2   \n",
              "1048573          2   28        97         2  ...       2        2   \n",
              "1048574          2   52        97         2  ...       2        2   \n",
              "\n",
              "         HIPERTENSION  OTHER_DISEASE  CARDIOVASCULAR  OBESITY  RENAL_CHRONIC  \\\n",
              "0                   1              2               2        2              2   \n",
              "1                   1              2               2        1              1   \n",
              "2                   2              2               2        2              2   \n",
              "3                   2              2               2        2              2   \n",
              "4                   1              2               2        2              2   \n",
              "...               ...            ...             ...      ...            ...   \n",
              "1048570             2              2               2        2              2   \n",
              "1048571             1              2               2        2              2   \n",
              "1048572             2              2               2        2              2   \n",
              "1048573             2              2               2        2              2   \n",
              "1048574             2              2               2        2              2   \n",
              "\n",
              "         TOBACCO  CLASIFFICATION_FINAL  ICU  \n",
              "0              2                     3   97  \n",
              "1              2                     5   97  \n",
              "2              2                     3    2  \n",
              "3              2                     7   97  \n",
              "4              2                     3   97  \n",
              "...          ...                   ...  ...  \n",
              "1048570        2                     7   97  \n",
              "1048571        2                     7    2  \n",
              "1048572        2                     7   97  \n",
              "1048573        2                     7   97  \n",
              "1048574        2                     7   97  \n",
              "\n",
              "[1048575 rows x 21 columns]"
            ],
            "text/html": [
              "\n",
              "  <div id=\"df-009b22e5-579b-4d0d-a42f-efe9169b9e6f\" class=\"colab-df-container\">\n",
              "    <div>\n",
              "<style scoped>\n",
              "    .dataframe tbody tr th:only-of-type {\n",
              "        vertical-align: middle;\n",
              "    }\n",
              "\n",
              "    .dataframe tbody tr th {\n",
              "        vertical-align: top;\n",
              "    }\n",
              "\n",
              "    .dataframe thead th {\n",
              "        text-align: right;\n",
              "    }\n",
              "</style>\n",
              "<table border=\"1\" class=\"dataframe\">\n",
              "  <thead>\n",
              "    <tr style=\"text-align: right;\">\n",
              "      <th></th>\n",
              "      <th>USMER</th>\n",
              "      <th>MEDICAL_UNIT</th>\n",
              "      <th>SEX</th>\n",
              "      <th>PATIENT_TYPE</th>\n",
              "      <th>DATE_DIED</th>\n",
              "      <th>INTUBED</th>\n",
              "      <th>PNEUMONIA</th>\n",
              "      <th>AGE</th>\n",
              "      <th>PREGNANT</th>\n",
              "      <th>DIABETES</th>\n",
              "      <th>...</th>\n",
              "      <th>ASTHMA</th>\n",
              "      <th>INMSUPR</th>\n",
              "      <th>HIPERTENSION</th>\n",
              "      <th>OTHER_DISEASE</th>\n",
              "      <th>CARDIOVASCULAR</th>\n",
              "      <th>OBESITY</th>\n",
              "      <th>RENAL_CHRONIC</th>\n",
              "      <th>TOBACCO</th>\n",
              "      <th>CLASIFFICATION_FINAL</th>\n",
              "      <th>ICU</th>\n",
              "    </tr>\n",
              "  </thead>\n",
              "  <tbody>\n",
              "    <tr>\n",
              "      <th>0</th>\n",
              "      <td>2</td>\n",
              "      <td>1</td>\n",
              "      <td>1</td>\n",
              "      <td>1</td>\n",
              "      <td>03/05/2020</td>\n",
              "      <td>97</td>\n",
              "      <td>1</td>\n",
              "      <td>65</td>\n",
              "      <td>2</td>\n",
              "      <td>2</td>\n",
              "      <td>...</td>\n",
              "      <td>2</td>\n",
              "      <td>2</td>\n",
              "      <td>1</td>\n",
              "      <td>2</td>\n",
              "      <td>2</td>\n",
              "      <td>2</td>\n",
              "      <td>2</td>\n",
              "      <td>2</td>\n",
              "      <td>3</td>\n",
              "      <td>97</td>\n",
              "    </tr>\n",
              "    <tr>\n",
              "      <th>1</th>\n",
              "      <td>2</td>\n",
              "      <td>1</td>\n",
              "      <td>2</td>\n",
              "      <td>1</td>\n",
              "      <td>03/06/2020</td>\n",
              "      <td>97</td>\n",
              "      <td>1</td>\n",
              "      <td>72</td>\n",
              "      <td>97</td>\n",
              "      <td>2</td>\n",
              "      <td>...</td>\n",
              "      <td>2</td>\n",
              "      <td>2</td>\n",
              "      <td>1</td>\n",
              "      <td>2</td>\n",
              "      <td>2</td>\n",
              "      <td>1</td>\n",
              "      <td>1</td>\n",
              "      <td>2</td>\n",
              "      <td>5</td>\n",
              "      <td>97</td>\n",
              "    </tr>\n",
              "    <tr>\n",
              "      <th>2</th>\n",
              "      <td>2</td>\n",
              "      <td>1</td>\n",
              "      <td>2</td>\n",
              "      <td>2</td>\n",
              "      <td>09/06/2020</td>\n",
              "      <td>1</td>\n",
              "      <td>2</td>\n",
              "      <td>55</td>\n",
              "      <td>97</td>\n",
              "      <td>1</td>\n",
              "      <td>...</td>\n",
              "      <td>2</td>\n",
              "      <td>2</td>\n",
              "      <td>2</td>\n",
              "      <td>2</td>\n",
              "      <td>2</td>\n",
              "      <td>2</td>\n",
              "      <td>2</td>\n",
              "      <td>2</td>\n",
              "      <td>3</td>\n",
              "      <td>2</td>\n",
              "    </tr>\n",
              "    <tr>\n",
              "      <th>3</th>\n",
              "      <td>2</td>\n",
              "      <td>1</td>\n",
              "      <td>1</td>\n",
              "      <td>1</td>\n",
              "      <td>12/06/2020</td>\n",
              "      <td>97</td>\n",
              "      <td>2</td>\n",
              "      <td>53</td>\n",
              "      <td>2</td>\n",
              "      <td>2</td>\n",
              "      <td>...</td>\n",
              "      <td>2</td>\n",
              "      <td>2</td>\n",
              "      <td>2</td>\n",
              "      <td>2</td>\n",
              "      <td>2</td>\n",
              "      <td>2</td>\n",
              "      <td>2</td>\n",
              "      <td>2</td>\n",
              "      <td>7</td>\n",
              "      <td>97</td>\n",
              "    </tr>\n",
              "    <tr>\n",
              "      <th>4</th>\n",
              "      <td>2</td>\n",
              "      <td>1</td>\n",
              "      <td>2</td>\n",
              "      <td>1</td>\n",
              "      <td>21/06/2020</td>\n",
              "      <td>97</td>\n",
              "      <td>2</td>\n",
              "      <td>68</td>\n",
              "      <td>97</td>\n",
              "      <td>1</td>\n",
              "      <td>...</td>\n",
              "      <td>2</td>\n",
              "      <td>2</td>\n",
              "      <td>1</td>\n",
              "      <td>2</td>\n",
              "      <td>2</td>\n",
              "      <td>2</td>\n",
              "      <td>2</td>\n",
              "      <td>2</td>\n",
              "      <td>3</td>\n",
              "      <td>97</td>\n",
              "    </tr>\n",
              "    <tr>\n",
              "      <th>...</th>\n",
              "      <td>...</td>\n",
              "      <td>...</td>\n",
              "      <td>...</td>\n",
              "      <td>...</td>\n",
              "      <td>...</td>\n",
              "      <td>...</td>\n",
              "      <td>...</td>\n",
              "      <td>...</td>\n",
              "      <td>...</td>\n",
              "      <td>...</td>\n",
              "      <td>...</td>\n",
              "      <td>...</td>\n",
              "      <td>...</td>\n",
              "      <td>...</td>\n",
              "      <td>...</td>\n",
              "      <td>...</td>\n",
              "      <td>...</td>\n",
              "      <td>...</td>\n",
              "      <td>...</td>\n",
              "      <td>...</td>\n",
              "      <td>...</td>\n",
              "    </tr>\n",
              "    <tr>\n",
              "      <th>1048570</th>\n",
              "      <td>2</td>\n",
              "      <td>13</td>\n",
              "      <td>2</td>\n",
              "      <td>1</td>\n",
              "      <td>9999-99-99</td>\n",
              "      <td>97</td>\n",
              "      <td>2</td>\n",
              "      <td>40</td>\n",
              "      <td>97</td>\n",
              "      <td>2</td>\n",
              "      <td>...</td>\n",
              "      <td>2</td>\n",
              "      <td>2</td>\n",
              "      <td>2</td>\n",
              "      <td>2</td>\n",
              "      <td>2</td>\n",
              "      <td>2</td>\n",
              "      <td>2</td>\n",
              "      <td>2</td>\n",
              "      <td>7</td>\n",
              "      <td>97</td>\n",
              "    </tr>\n",
              "    <tr>\n",
              "      <th>1048571</th>\n",
              "      <td>1</td>\n",
              "      <td>13</td>\n",
              "      <td>2</td>\n",
              "      <td>2</td>\n",
              "      <td>9999-99-99</td>\n",
              "      <td>2</td>\n",
              "      <td>2</td>\n",
              "      <td>51</td>\n",
              "      <td>97</td>\n",
              "      <td>2</td>\n",
              "      <td>...</td>\n",
              "      <td>2</td>\n",
              "      <td>2</td>\n",
              "      <td>1</td>\n",
              "      <td>2</td>\n",
              "      <td>2</td>\n",
              "      <td>2</td>\n",
              "      <td>2</td>\n",
              "      <td>2</td>\n",
              "      <td>7</td>\n",
              "      <td>2</td>\n",
              "    </tr>\n",
              "    <tr>\n",
              "      <th>1048572</th>\n",
              "      <td>2</td>\n",
              "      <td>13</td>\n",
              "      <td>2</td>\n",
              "      <td>1</td>\n",
              "      <td>9999-99-99</td>\n",
              "      <td>97</td>\n",
              "      <td>2</td>\n",
              "      <td>55</td>\n",
              "      <td>97</td>\n",
              "      <td>2</td>\n",
              "      <td>...</td>\n",
              "      <td>2</td>\n",
              "      <td>2</td>\n",
              "      <td>2</td>\n",
              "      <td>2</td>\n",
              "      <td>2</td>\n",
              "      <td>2</td>\n",
              "      <td>2</td>\n",
              "      <td>2</td>\n",
              "      <td>7</td>\n",
              "      <td>97</td>\n",
              "    </tr>\n",
              "    <tr>\n",
              "      <th>1048573</th>\n",
              "      <td>2</td>\n",
              "      <td>13</td>\n",
              "      <td>2</td>\n",
              "      <td>1</td>\n",
              "      <td>9999-99-99</td>\n",
              "      <td>97</td>\n",
              "      <td>2</td>\n",
              "      <td>28</td>\n",
              "      <td>97</td>\n",
              "      <td>2</td>\n",
              "      <td>...</td>\n",
              "      <td>2</td>\n",
              "      <td>2</td>\n",
              "      <td>2</td>\n",
              "      <td>2</td>\n",
              "      <td>2</td>\n",
              "      <td>2</td>\n",
              "      <td>2</td>\n",
              "      <td>2</td>\n",
              "      <td>7</td>\n",
              "      <td>97</td>\n",
              "    </tr>\n",
              "    <tr>\n",
              "      <th>1048574</th>\n",
              "      <td>2</td>\n",
              "      <td>13</td>\n",
              "      <td>2</td>\n",
              "      <td>1</td>\n",
              "      <td>9999-99-99</td>\n",
              "      <td>97</td>\n",
              "      <td>2</td>\n",
              "      <td>52</td>\n",
              "      <td>97</td>\n",
              "      <td>2</td>\n",
              "      <td>...</td>\n",
              "      <td>2</td>\n",
              "      <td>2</td>\n",
              "      <td>2</td>\n",
              "      <td>2</td>\n",
              "      <td>2</td>\n",
              "      <td>2</td>\n",
              "      <td>2</td>\n",
              "      <td>2</td>\n",
              "      <td>7</td>\n",
              "      <td>97</td>\n",
              "    </tr>\n",
              "  </tbody>\n",
              "</table>\n",
              "<p>1048575 rows × 21 columns</p>\n",
              "</div>\n",
              "    <div class=\"colab-df-buttons\">\n",
              "\n",
              "  <div class=\"colab-df-container\">\n",
              "    <button class=\"colab-df-convert\" onclick=\"convertToInteractive('df-009b22e5-579b-4d0d-a42f-efe9169b9e6f')\"\n",
              "            title=\"Convert this dataframe to an interactive table.\"\n",
              "            style=\"display:none;\">\n",
              "\n",
              "  <svg xmlns=\"http://www.w3.org/2000/svg\" height=\"24px\" viewBox=\"0 -960 960 960\">\n",
              "    <path d=\"M120-120v-720h720v720H120Zm60-500h600v-160H180v160Zm220 220h160v-160H400v160Zm0 220h160v-160H400v160ZM180-400h160v-160H180v160Zm440 0h160v-160H620v160ZM180-180h160v-160H180v160Zm440 0h160v-160H620v160Z\"/>\n",
              "  </svg>\n",
              "    </button>\n",
              "\n",
              "  <style>\n",
              "    .colab-df-container {\n",
              "      display:flex;\n",
              "      gap: 12px;\n",
              "    }\n",
              "\n",
              "    .colab-df-convert {\n",
              "      background-color: #E8F0FE;\n",
              "      border: none;\n",
              "      border-radius: 50%;\n",
              "      cursor: pointer;\n",
              "      display: none;\n",
              "      fill: #1967D2;\n",
              "      height: 32px;\n",
              "      padding: 0 0 0 0;\n",
              "      width: 32px;\n",
              "    }\n",
              "\n",
              "    .colab-df-convert:hover {\n",
              "      background-color: #E2EBFA;\n",
              "      box-shadow: 0px 1px 2px rgba(60, 64, 67, 0.3), 0px 1px 3px 1px rgba(60, 64, 67, 0.15);\n",
              "      fill: #174EA6;\n",
              "    }\n",
              "\n",
              "    .colab-df-buttons div {\n",
              "      margin-bottom: 4px;\n",
              "    }\n",
              "\n",
              "    [theme=dark] .colab-df-convert {\n",
              "      background-color: #3B4455;\n",
              "      fill: #D2E3FC;\n",
              "    }\n",
              "\n",
              "    [theme=dark] .colab-df-convert:hover {\n",
              "      background-color: #434B5C;\n",
              "      box-shadow: 0px 1px 3px 1px rgba(0, 0, 0, 0.15);\n",
              "      filter: drop-shadow(0px 1px 2px rgba(0, 0, 0, 0.3));\n",
              "      fill: #FFFFFF;\n",
              "    }\n",
              "  </style>\n",
              "\n",
              "    <script>\n",
              "      const buttonEl =\n",
              "        document.querySelector('#df-009b22e5-579b-4d0d-a42f-efe9169b9e6f button.colab-df-convert');\n",
              "      buttonEl.style.display =\n",
              "        google.colab.kernel.accessAllowed ? 'block' : 'none';\n",
              "\n",
              "      async function convertToInteractive(key) {\n",
              "        const element = document.querySelector('#df-009b22e5-579b-4d0d-a42f-efe9169b9e6f');\n",
              "        const dataTable =\n",
              "          await google.colab.kernel.invokeFunction('convertToInteractive',\n",
              "                                                    [key], {});\n",
              "        if (!dataTable) return;\n",
              "\n",
              "        const docLinkHtml = 'Like what you see? Visit the ' +\n",
              "          '<a target=\"_blank\" href=https://colab.research.google.com/notebooks/data_table.ipynb>data table notebook</a>'\n",
              "          + ' to learn more about interactive tables.';\n",
              "        element.innerHTML = '';\n",
              "        dataTable['output_type'] = 'display_data';\n",
              "        await google.colab.output.renderOutput(dataTable, element);\n",
              "        const docLink = document.createElement('div');\n",
              "        docLink.innerHTML = docLinkHtml;\n",
              "        element.appendChild(docLink);\n",
              "      }\n",
              "    </script>\n",
              "  </div>\n",
              "\n",
              "\n",
              "<div id=\"df-cfe47abf-9228-4a32-b637-314ccfe1235c\">\n",
              "  <button class=\"colab-df-quickchart\" onclick=\"quickchart('df-cfe47abf-9228-4a32-b637-314ccfe1235c')\"\n",
              "            title=\"Suggest charts\"\n",
              "            style=\"display:none;\">\n",
              "\n",
              "<svg xmlns=\"http://www.w3.org/2000/svg\" height=\"24px\"viewBox=\"0 0 24 24\"\n",
              "     width=\"24px\">\n",
              "    <g>\n",
              "        <path d=\"M19 3H5c-1.1 0-2 .9-2 2v14c0 1.1.9 2 2 2h14c1.1 0 2-.9 2-2V5c0-1.1-.9-2-2-2zM9 17H7v-7h2v7zm4 0h-2V7h2v10zm4 0h-2v-4h2v4z\"/>\n",
              "    </g>\n",
              "</svg>\n",
              "  </button>\n",
              "\n",
              "<style>\n",
              "  .colab-df-quickchart {\n",
              "      --bg-color: #E8F0FE;\n",
              "      --fill-color: #1967D2;\n",
              "      --hover-bg-color: #E2EBFA;\n",
              "      --hover-fill-color: #174EA6;\n",
              "      --disabled-fill-color: #AAA;\n",
              "      --disabled-bg-color: #DDD;\n",
              "  }\n",
              "\n",
              "  [theme=dark] .colab-df-quickchart {\n",
              "      --bg-color: #3B4455;\n",
              "      --fill-color: #D2E3FC;\n",
              "      --hover-bg-color: #434B5C;\n",
              "      --hover-fill-color: #FFFFFF;\n",
              "      --disabled-bg-color: #3B4455;\n",
              "      --disabled-fill-color: #666;\n",
              "  }\n",
              "\n",
              "  .colab-df-quickchart {\n",
              "    background-color: var(--bg-color);\n",
              "    border: none;\n",
              "    border-radius: 50%;\n",
              "    cursor: pointer;\n",
              "    display: none;\n",
              "    fill: var(--fill-color);\n",
              "    height: 32px;\n",
              "    padding: 0;\n",
              "    width: 32px;\n",
              "  }\n",
              "\n",
              "  .colab-df-quickchart:hover {\n",
              "    background-color: var(--hover-bg-color);\n",
              "    box-shadow: 0 1px 2px rgba(60, 64, 67, 0.3), 0 1px 3px 1px rgba(60, 64, 67, 0.15);\n",
              "    fill: var(--button-hover-fill-color);\n",
              "  }\n",
              "\n",
              "  .colab-df-quickchart-complete:disabled,\n",
              "  .colab-df-quickchart-complete:disabled:hover {\n",
              "    background-color: var(--disabled-bg-color);\n",
              "    fill: var(--disabled-fill-color);\n",
              "    box-shadow: none;\n",
              "  }\n",
              "\n",
              "  .colab-df-spinner {\n",
              "    border: 2px solid var(--fill-color);\n",
              "    border-color: transparent;\n",
              "    border-bottom-color: var(--fill-color);\n",
              "    animation:\n",
              "      spin 1s steps(1) infinite;\n",
              "  }\n",
              "\n",
              "  @keyframes spin {\n",
              "    0% {\n",
              "      border-color: transparent;\n",
              "      border-bottom-color: var(--fill-color);\n",
              "      border-left-color: var(--fill-color);\n",
              "    }\n",
              "    20% {\n",
              "      border-color: transparent;\n",
              "      border-left-color: var(--fill-color);\n",
              "      border-top-color: var(--fill-color);\n",
              "    }\n",
              "    30% {\n",
              "      border-color: transparent;\n",
              "      border-left-color: var(--fill-color);\n",
              "      border-top-color: var(--fill-color);\n",
              "      border-right-color: var(--fill-color);\n",
              "    }\n",
              "    40% {\n",
              "      border-color: transparent;\n",
              "      border-right-color: var(--fill-color);\n",
              "      border-top-color: var(--fill-color);\n",
              "    }\n",
              "    60% {\n",
              "      border-color: transparent;\n",
              "      border-right-color: var(--fill-color);\n",
              "    }\n",
              "    80% {\n",
              "      border-color: transparent;\n",
              "      border-right-color: var(--fill-color);\n",
              "      border-bottom-color: var(--fill-color);\n",
              "    }\n",
              "    90% {\n",
              "      border-color: transparent;\n",
              "      border-bottom-color: var(--fill-color);\n",
              "    }\n",
              "  }\n",
              "</style>\n",
              "\n",
              "  <script>\n",
              "    async function quickchart(key) {\n",
              "      const quickchartButtonEl =\n",
              "        document.querySelector('#' + key + ' button');\n",
              "      quickchartButtonEl.disabled = true;  // To prevent multiple clicks.\n",
              "      quickchartButtonEl.classList.add('colab-df-spinner');\n",
              "      try {\n",
              "        const charts = await google.colab.kernel.invokeFunction(\n",
              "            'suggestCharts', [key], {});\n",
              "      } catch (error) {\n",
              "        console.error('Error during call to suggestCharts:', error);\n",
              "      }\n",
              "      quickchartButtonEl.classList.remove('colab-df-spinner');\n",
              "      quickchartButtonEl.classList.add('colab-df-quickchart-complete');\n",
              "    }\n",
              "    (() => {\n",
              "      let quickchartButtonEl =\n",
              "        document.querySelector('#df-cfe47abf-9228-4a32-b637-314ccfe1235c button');\n",
              "      quickchartButtonEl.style.display =\n",
              "        google.colab.kernel.accessAllowed ? 'block' : 'none';\n",
              "    })();\n",
              "  </script>\n",
              "</div>\n",
              "\n",
              "  <div id=\"id_bd78011c-9113-4fbf-a1a9-8caa502f2d21\">\n",
              "    <style>\n",
              "      .colab-df-generate {\n",
              "        background-color: #E8F0FE;\n",
              "        border: none;\n",
              "        border-radius: 50%;\n",
              "        cursor: pointer;\n",
              "        display: none;\n",
              "        fill: #1967D2;\n",
              "        height: 32px;\n",
              "        padding: 0 0 0 0;\n",
              "        width: 32px;\n",
              "      }\n",
              "\n",
              "      .colab-df-generate:hover {\n",
              "        background-color: #E2EBFA;\n",
              "        box-shadow: 0px 1px 2px rgba(60, 64, 67, 0.3), 0px 1px 3px 1px rgba(60, 64, 67, 0.15);\n",
              "        fill: #174EA6;\n",
              "      }\n",
              "\n",
              "      [theme=dark] .colab-df-generate {\n",
              "        background-color: #3B4455;\n",
              "        fill: #D2E3FC;\n",
              "      }\n",
              "\n",
              "      [theme=dark] .colab-df-generate:hover {\n",
              "        background-color: #434B5C;\n",
              "        box-shadow: 0px 1px 3px 1px rgba(0, 0, 0, 0.15);\n",
              "        filter: drop-shadow(0px 1px 2px rgba(0, 0, 0, 0.3));\n",
              "        fill: #FFFFFF;\n",
              "      }\n",
              "    </style>\n",
              "    <button class=\"colab-df-generate\" onclick=\"generateWithVariable('df')\"\n",
              "            title=\"Generate code using this dataframe.\"\n",
              "            style=\"display:none;\">\n",
              "\n",
              "  <svg xmlns=\"http://www.w3.org/2000/svg\" height=\"24px\"viewBox=\"0 0 24 24\"\n",
              "       width=\"24px\">\n",
              "    <path d=\"M7,19H8.4L18.45,9,17,7.55,7,17.6ZM5,21V16.75L18.45,3.32a2,2,0,0,1,2.83,0l1.4,1.43a1.91,1.91,0,0,1,.58,1.4,1.91,1.91,0,0,1-.58,1.4L9.25,21ZM18.45,9,17,7.55Zm-12,3A5.31,5.31,0,0,0,4.9,8.1,5.31,5.31,0,0,0,1,6.5,5.31,5.31,0,0,0,4.9,4.9,5.31,5.31,0,0,0,6.5,1,5.31,5.31,0,0,0,8.1,4.9,5.31,5.31,0,0,0,12,6.5,5.46,5.46,0,0,0,6.5,12Z\"/>\n",
              "  </svg>\n",
              "    </button>\n",
              "    <script>\n",
              "      (() => {\n",
              "      const buttonEl =\n",
              "        document.querySelector('#id_bd78011c-9113-4fbf-a1a9-8caa502f2d21 button.colab-df-generate');\n",
              "      buttonEl.style.display =\n",
              "        google.colab.kernel.accessAllowed ? 'block' : 'none';\n",
              "\n",
              "      buttonEl.onclick = () => {\n",
              "        google.colab.notebook.generateWithVariable('df');\n",
              "      }\n",
              "      })();\n",
              "    </script>\n",
              "  </div>\n",
              "\n",
              "    </div>\n",
              "  </div>\n"
            ],
            "application/vnd.google.colaboratory.intrinsic+json": {
              "type": "dataframe",
              "variable_name": "df"
            }
          },
          "metadata": {}
        }
      ]
    },
    {
      "cell_type": "markdown",
      "source": [
        "Rename the columns for easy access"
      ],
      "metadata": {
        "id": "Kjmp2SpLMr9P"
      }
    },
    {
      "cell_type": "code",
      "source": [
        "df = df.rename(columns={'HIPERTENSION': 'HYPERTENSION', 'CLASIFFICATION_FINAL': 'CLASSIFICATION', 'DATE_DIED': 'DIED'})"
      ],
      "metadata": {
        "id": "Y4sah-EZxqjw"
      },
      "execution_count": null,
      "outputs": []
    },
    {
      "cell_type": "markdown",
      "source": [
        "Check for duplicate rows and remove them from the dataset"
      ],
      "metadata": {
        "id": "ML0eHPZOM5r3"
      }
    },
    {
      "cell_type": "code",
      "source": [
        "print(f\"Number of duplicates: {df.duplicated().sum()}\")\n",
        "df.drop_duplicates(inplace=True)\n",
        "print(f\"Number of duplicates after: {df.duplicated().sum()}\")"
      ],
      "metadata": {
        "colab": {
          "base_uri": "https://localhost:8080/"
        },
        "id": "lNamM9gT2Eiv",
        "outputId": "2903d704-cd5d-4ef8-c9ac-dc4aa79b6e1b"
      },
      "execution_count": null,
      "outputs": [
        {
          "output_type": "stream",
          "name": "stdout",
          "text": [
            "Number of duplicates: 812049\n",
            "Number of duplicates after: 0\n"
          ]
        }
      ]
    },
    {
      "cell_type": "markdown",
      "source": [
        " Check for missing values in each column of the dataset"
      ],
      "metadata": {
        "id": "LZQ8P1CaNAUF"
      }
    },
    {
      "cell_type": "code",
      "source": [
        "df.isnull().sum()"
      ],
      "metadata": {
        "colab": {
          "base_uri": "https://localhost:8080/",
          "height": 743
        },
        "id": "VkbMq_YtXWaU",
        "outputId": "e20c7869-e2c9-4650-e97c-21d64212a65d"
      },
      "execution_count": null,
      "outputs": [
        {
          "output_type": "execute_result",
          "data": {
            "text/plain": [
              "USMER             0\n",
              "MEDICAL_UNIT      0\n",
              "SEX               0\n",
              "PATIENT_TYPE      0\n",
              "DIED              0\n",
              "INTUBED           0\n",
              "PNEUMONIA         0\n",
              "AGE               0\n",
              "PREGNANT          0\n",
              "DIABETES          0\n",
              "COPD              0\n",
              "ASTHMA            0\n",
              "INMSUPR           0\n",
              "HYPERTENSION      0\n",
              "OTHER_DISEASE     0\n",
              "CARDIOVASCULAR    0\n",
              "OBESITY           0\n",
              "RENAL_CHRONIC     0\n",
              "TOBACCO           0\n",
              "CLASSIFICATION    0\n",
              "ICU               0\n",
              "dtype: int64"
            ],
            "text/html": [
              "<div>\n",
              "<style scoped>\n",
              "    .dataframe tbody tr th:only-of-type {\n",
              "        vertical-align: middle;\n",
              "    }\n",
              "\n",
              "    .dataframe tbody tr th {\n",
              "        vertical-align: top;\n",
              "    }\n",
              "\n",
              "    .dataframe thead th {\n",
              "        text-align: right;\n",
              "    }\n",
              "</style>\n",
              "<table border=\"1\" class=\"dataframe\">\n",
              "  <thead>\n",
              "    <tr style=\"text-align: right;\">\n",
              "      <th></th>\n",
              "      <th>0</th>\n",
              "    </tr>\n",
              "  </thead>\n",
              "  <tbody>\n",
              "    <tr>\n",
              "      <th>USMER</th>\n",
              "      <td>0</td>\n",
              "    </tr>\n",
              "    <tr>\n",
              "      <th>MEDICAL_UNIT</th>\n",
              "      <td>0</td>\n",
              "    </tr>\n",
              "    <tr>\n",
              "      <th>SEX</th>\n",
              "      <td>0</td>\n",
              "    </tr>\n",
              "    <tr>\n",
              "      <th>PATIENT_TYPE</th>\n",
              "      <td>0</td>\n",
              "    </tr>\n",
              "    <tr>\n",
              "      <th>DIED</th>\n",
              "      <td>0</td>\n",
              "    </tr>\n",
              "    <tr>\n",
              "      <th>INTUBED</th>\n",
              "      <td>0</td>\n",
              "    </tr>\n",
              "    <tr>\n",
              "      <th>PNEUMONIA</th>\n",
              "      <td>0</td>\n",
              "    </tr>\n",
              "    <tr>\n",
              "      <th>AGE</th>\n",
              "      <td>0</td>\n",
              "    </tr>\n",
              "    <tr>\n",
              "      <th>PREGNANT</th>\n",
              "      <td>0</td>\n",
              "    </tr>\n",
              "    <tr>\n",
              "      <th>DIABETES</th>\n",
              "      <td>0</td>\n",
              "    </tr>\n",
              "    <tr>\n",
              "      <th>COPD</th>\n",
              "      <td>0</td>\n",
              "    </tr>\n",
              "    <tr>\n",
              "      <th>ASTHMA</th>\n",
              "      <td>0</td>\n",
              "    </tr>\n",
              "    <tr>\n",
              "      <th>INMSUPR</th>\n",
              "      <td>0</td>\n",
              "    </tr>\n",
              "    <tr>\n",
              "      <th>HYPERTENSION</th>\n",
              "      <td>0</td>\n",
              "    </tr>\n",
              "    <tr>\n",
              "      <th>OTHER_DISEASE</th>\n",
              "      <td>0</td>\n",
              "    </tr>\n",
              "    <tr>\n",
              "      <th>CARDIOVASCULAR</th>\n",
              "      <td>0</td>\n",
              "    </tr>\n",
              "    <tr>\n",
              "      <th>OBESITY</th>\n",
              "      <td>0</td>\n",
              "    </tr>\n",
              "    <tr>\n",
              "      <th>RENAL_CHRONIC</th>\n",
              "      <td>0</td>\n",
              "    </tr>\n",
              "    <tr>\n",
              "      <th>TOBACCO</th>\n",
              "      <td>0</td>\n",
              "    </tr>\n",
              "    <tr>\n",
              "      <th>CLASSIFICATION</th>\n",
              "      <td>0</td>\n",
              "    </tr>\n",
              "    <tr>\n",
              "      <th>ICU</th>\n",
              "      <td>0</td>\n",
              "    </tr>\n",
              "  </tbody>\n",
              "</table>\n",
              "</div><br><label><b>dtype:</b> int64</label>"
            ]
          },
          "metadata": {},
          "execution_count": 70
        }
      ]
    },
    {
      "cell_type": "markdown",
      "source": [
        "Map or change the values of specific columns since actual missing data were given values like 99 and 98"
      ],
      "metadata": {
        "id": "0d9ZPYQiNSzr"
      }
    },
    {
      "cell_type": "code",
      "source": [
        "df['CLASSIFICATION'] = df['CLASSIFICATION'].apply(lambda x: 1 if 1 <= x <= 3 else (0 if 4 <= x <= 7 else x))\n",
        "df['USMER'] = df['USMER'].map({1:1, 2:0})\n",
        "df['SEX']= df['SEX'].map({1:1, 2:0})\n",
        "df['DIED'] = df['DIED'].apply(lambda x: 0 if x == '9999-99-99' else 1)\n",
        "df['ICU'] = df['ICU'].map({1:1, 2:0, 97:'sent home', 99:pd.NA})\n",
        "df['INTUBED']= df['INTUBED'].map({1:1, 2:0, 97:'sent home', 99:pd.NA})\n",
        "df['PREGNANT']= df['PREGNANT'].map({1:1, 2:0, 97:'male', 98:pd.NA})\n",
        "df['PNEUMONIA']= df['PNEUMONIA'].map({1:1, 2:0, 99:pd.NA})\n",
        "df['PATIENT_TYPE']= df['PATIENT_TYPE'].map({1:0, 2:1})"
      ],
      "metadata": {
        "id": "2o26UwoL6HSl"
      },
      "execution_count": null,
      "outputs": []
    },
    {
      "cell_type": "code",
      "source": [
        "mapping_dict = {1: 1, 2: 0, 98: pd.NA}\n",
        "\n",
        "columns_to_map = [\n",
        "    'OTHER_DISEASE', 'CARDIOVASCULAR', 'OBESITY', 'RENAL_CHRONIC',\n",
        "    'TOBACCO', 'COPD', 'ASTHMA', 'INMSUPR', 'HYPERTENSION', 'DIABETES']\n",
        "\n",
        "for column in columns_to_map:\n",
        "    df[column] = df[column].map(mapping_dict)"
      ],
      "metadata": {
        "id": "iKA6yUIyFDUG"
      },
      "execution_count": null,
      "outputs": []
    },
    {
      "cell_type": "markdown",
      "source": [
        "Displays the number of actual missing values after mapping"
      ],
      "metadata": {
        "id": "FFn64D5SNiPf"
      }
    },
    {
      "cell_type": "code",
      "source": [
        "df.isnull().sum()"
      ],
      "metadata": {
        "colab": {
          "base_uri": "https://localhost:8080/",
          "height": 743
        },
        "id": "Rx_pAfffXew5",
        "outputId": "c5a02140-5250-446d-a31e-51cf296c5087"
      },
      "execution_count": null,
      "outputs": [
        {
          "output_type": "execute_result",
          "data": {
            "text/plain": [
              "USMER                0\n",
              "MEDICAL_UNIT         0\n",
              "SEX                  0\n",
              "PATIENT_TYPE         0\n",
              "DIED                 0\n",
              "INTUBED           5505\n",
              "PNEUMONIA         7187\n",
              "AGE                  0\n",
              "PREGNANT          1954\n",
              "DIABETES          2840\n",
              "COPD              2529\n",
              "ASTHMA            2506\n",
              "INMSUPR           2926\n",
              "HYPERTENSION      2620\n",
              "OTHER_DISEASE     4362\n",
              "CARDIOVASCULAR    2603\n",
              "OBESITY           2554\n",
              "RENAL_CHRONIC     2531\n",
              "TOBACCO           2738\n",
              "CLASSIFICATION       0\n",
              "ICU               5654\n",
              "dtype: int64"
            ],
            "text/html": [
              "<div>\n",
              "<style scoped>\n",
              "    .dataframe tbody tr th:only-of-type {\n",
              "        vertical-align: middle;\n",
              "    }\n",
              "\n",
              "    .dataframe tbody tr th {\n",
              "        vertical-align: top;\n",
              "    }\n",
              "\n",
              "    .dataframe thead th {\n",
              "        text-align: right;\n",
              "    }\n",
              "</style>\n",
              "<table border=\"1\" class=\"dataframe\">\n",
              "  <thead>\n",
              "    <tr style=\"text-align: right;\">\n",
              "      <th></th>\n",
              "      <th>0</th>\n",
              "    </tr>\n",
              "  </thead>\n",
              "  <tbody>\n",
              "    <tr>\n",
              "      <th>USMER</th>\n",
              "      <td>0</td>\n",
              "    </tr>\n",
              "    <tr>\n",
              "      <th>MEDICAL_UNIT</th>\n",
              "      <td>0</td>\n",
              "    </tr>\n",
              "    <tr>\n",
              "      <th>SEX</th>\n",
              "      <td>0</td>\n",
              "    </tr>\n",
              "    <tr>\n",
              "      <th>PATIENT_TYPE</th>\n",
              "      <td>0</td>\n",
              "    </tr>\n",
              "    <tr>\n",
              "      <th>DIED</th>\n",
              "      <td>0</td>\n",
              "    </tr>\n",
              "    <tr>\n",
              "      <th>INTUBED</th>\n",
              "      <td>5505</td>\n",
              "    </tr>\n",
              "    <tr>\n",
              "      <th>PNEUMONIA</th>\n",
              "      <td>7187</td>\n",
              "    </tr>\n",
              "    <tr>\n",
              "      <th>AGE</th>\n",
              "      <td>0</td>\n",
              "    </tr>\n",
              "    <tr>\n",
              "      <th>PREGNANT</th>\n",
              "      <td>1954</td>\n",
              "    </tr>\n",
              "    <tr>\n",
              "      <th>DIABETES</th>\n",
              "      <td>2840</td>\n",
              "    </tr>\n",
              "    <tr>\n",
              "      <th>COPD</th>\n",
              "      <td>2529</td>\n",
              "    </tr>\n",
              "    <tr>\n",
              "      <th>ASTHMA</th>\n",
              "      <td>2506</td>\n",
              "    </tr>\n",
              "    <tr>\n",
              "      <th>INMSUPR</th>\n",
              "      <td>2926</td>\n",
              "    </tr>\n",
              "    <tr>\n",
              "      <th>HYPERTENSION</th>\n",
              "      <td>2620</td>\n",
              "    </tr>\n",
              "    <tr>\n",
              "      <th>OTHER_DISEASE</th>\n",
              "      <td>4362</td>\n",
              "    </tr>\n",
              "    <tr>\n",
              "      <th>CARDIOVASCULAR</th>\n",
              "      <td>2603</td>\n",
              "    </tr>\n",
              "    <tr>\n",
              "      <th>OBESITY</th>\n",
              "      <td>2554</td>\n",
              "    </tr>\n",
              "    <tr>\n",
              "      <th>RENAL_CHRONIC</th>\n",
              "      <td>2531</td>\n",
              "    </tr>\n",
              "    <tr>\n",
              "      <th>TOBACCO</th>\n",
              "      <td>2738</td>\n",
              "    </tr>\n",
              "    <tr>\n",
              "      <th>CLASSIFICATION</th>\n",
              "      <td>0</td>\n",
              "    </tr>\n",
              "    <tr>\n",
              "      <th>ICU</th>\n",
              "      <td>5654</td>\n",
              "    </tr>\n",
              "  </tbody>\n",
              "</table>\n",
              "</div><br><label><b>dtype:</b> int64</label>"
            ]
          },
          "metadata": {},
          "execution_count": 43
        }
      ]
    },
    {
      "cell_type": "markdown",
      "source": [
        "Fill the missing values with appropriate data"
      ],
      "metadata": {
        "id": "c1tmUlMwOBvQ"
      }
    },
    {
      "cell_type": "code",
      "source": [
        "columns = [\n",
        "    'INTUBED', 'PNEUMONIA', 'PREGNANT', 'DIABETES', 'COPD',\n",
        "    'ASTHMA', 'INMSUPR', 'HYPERTENSION', 'OTHER_DISEASE',\n",
        "    'CARDIOVASCULAR', 'OBESITY', 'RENAL_CHRONIC', 'TOBACCO', 'ICU']\n",
        "\n",
        "for column in columns:\n",
        "    df[column].fillna(df[column].mode()[0], inplace=True)"
      ],
      "metadata": {
        "colab": {
          "base_uri": "https://localhost:8080/"
        },
        "id": "whY7m-gIXSia",
        "outputId": "5131b572-4fc6-4785-f20a-f83e77b44f3a"
      },
      "execution_count": null,
      "outputs": [
        {
          "output_type": "stream",
          "name": "stderr",
          "text": [
            "<ipython-input-7-48e374fef4fa>:7: FutureWarning: A value is trying to be set on a copy of a DataFrame or Series through chained assignment using an inplace method.\n",
            "The behavior will change in pandas 3.0. This inplace method will never work because the intermediate object on which we are setting values always behaves as a copy.\n",
            "\n",
            "For example, when doing 'df[col].method(value, inplace=True)', try using 'df.method({col: value}, inplace=True)' or df[col] = df[col].method(value) instead, to perform the operation inplace on the original object.\n",
            "\n",
            "\n",
            "  df[column].fillna(df[column].mode()[0], inplace=True)\n",
            "<ipython-input-7-48e374fef4fa>:7: FutureWarning: Downcasting object dtype arrays on .fillna, .ffill, .bfill is deprecated and will change in a future version. Call result.infer_objects(copy=False) instead. To opt-in to the future behavior, set `pd.set_option('future.no_silent_downcasting', True)`\n",
            "  df[column].fillna(df[column].mode()[0], inplace=True)\n"
          ]
        }
      ]
    },
    {
      "cell_type": "markdown",
      "source": [
        "Displays the boxplot of numeric columns to show outliers"
      ],
      "metadata": {
        "id": "Ps7eSzaoOY4d"
      }
    },
    {
      "cell_type": "code",
      "source": [
        "numeric_columns = ['AGE']\n",
        "\n",
        "plt.figure(figsize=(15,10))\n",
        "for i, column in enumerate(numeric_columns, 1):\n",
        "  plt.subplot(3, 3, i)\n",
        "  sns.boxplot(df[column])\n",
        "  plt.title(f'Boxplot of {column}')\n",
        "plt.tight_layout()\n",
        "plt.show()"
      ],
      "metadata": {
        "colab": {
          "base_uri": "https://localhost:8080/",
          "height": 366
        },
        "id": "zr6I9vl1WBg-",
        "outputId": "dfdce249-880d-4b71-ab7c-9fff3378a371"
      },
      "execution_count": null,
      "outputs": [
        {
          "output_type": "display_data",
          "data": {
            "text/plain": [
              "<Figure size 1500x1000 with 1 Axes>"
            ],
            "image/png": "[encoded data removed]"
          },
          "metadata": {}
        }
      ]
    },
    {
      "cell_type": "markdown",
      "source": [
        "Handle outliers to reduce skewness"
      ],
      "metadata": {
        "id": "SM_oN_DsQ4qX"
      }
    },
    {
      "cell_type": "code",
      "source": [
        "df = df[df['AGE'] < df['AGE'].quantile(0.95)]"
      ],
      "metadata": {
        "id": "rBJs0VsaWWHI"
      },
      "execution_count": null,
      "outputs": []
    },
    {
      "cell_type": "markdown",
      "source": [
        "Do one-hot encoding for categorical columns"
      ],
      "metadata": {
        "id": "o9ob5hJnQ6af"
      }
    },
    {
      "cell_type": "code",
      "source": [
        "df = pd.get_dummies(df, columns=['ICU', 'INTUBED', 'PREGNANT', 'MEDICAL_UNIT'], drop_first = False)"
      ],
      "metadata": {
        "id": "bZpf9pLcgjFf"
      },
      "execution_count": null,
      "outputs": []
    },
    {
      "cell_type": "markdown",
      "source": [
        "## Visualization Graphs"
      ],
      "metadata": {
        "id": "093pGpBQgUIH"
      }
    },
    {
      "cell_type": "markdown",
      "source": [
        "This pie chart shows that there is almost an equal distribution of the COVID and Non-COVID patients and that the model will unlikely have a bias towards the majority class."
      ],
      "metadata": {
        "id": "1kqGD2m-UHHz"
      }
    },
    {
      "cell_type": "code",
      "source": [
        "constructive_counts = df['CLASSIFICATION'].value_counts()\n",
        "\n",
        "plt.figure(figsize=(6,6))\n",
        "plt.pie(constructive_counts, labels=['non-covid', 'covid'], autopct='%1.1f%%', colors=['blue', 'red'], startangle=90)\n",
        "plt.title('Distribution of Covid Patients')\n",
        "plt.show()"
      ],
      "metadata": {
        "colab": {
          "base_uri": "https://localhost:8080/",
          "height": 521
        },
        "id": "fcizYXn_jUhG",
        "outputId": "c7f2d02e-1680-489e-b43a-4c7f4b2450b2"
      },
      "execution_count": null,
      "outputs": [
        {
          "output_type": "display_data",
          "data": {
            "text/plain": [
              "<Figure size 600x600 with 1 Axes>"
            ],
            "image/png": "[encoded data removed]"
          },
          "metadata": {}
        }
      ]
    },
    {
      "cell_type": "markdown",
      "source": [
        "This graph is provided by the CatBoost model to show the impact of each column value to the model output. The columns on the left are arranged based on their impact in increasing order."
      ],
      "metadata": {
        "id": "NKBXPVo6Wb7A"
      }
    },
    {
      "cell_type": "code",
      "source": [
        "import shap\n",
        "import catboost\n",
        "explainer = shap.TreeExplainer(model)\n",
        "shap_values = explainer.shap_values(X_test)\n",
        "shap.summary_plot(shap_values, X_test)"
      ],
      "metadata": {
        "colab": {
          "base_uri": "https://localhost:8080/",
          "height": 637
        },
        "id": "EObCKODishVV",
        "outputId": "959f181e-d9df-4e93-c159-83274a6d3de1"
      },
      "execution_count": null,
      "outputs": [
        {
          "output_type": "display_data",
          "data": {
            "text/plain": [
              "<Figure size 800x630 with 2 Axes>"
            ],
            "image/png": "[encoded data removed]"
          },
          "metadata": {}
        }
      ]
    },
    {
      "cell_type": "markdown",
      "source": [
        "Since the `DIED` column had the highest impact on the model output, this graph shows the relationship between the column and the target column"
      ],
      "metadata": {
        "id": "x1ZoIo83X_Tf"
      }
    },
    {
      "cell_type": "code",
      "source": [
        "plt.figure(figsize=(8,6))\n",
        "\n",
        "sns.countplot(x='CLASSIFICATION', hue='DIED', data=df, palette='Set2')\n",
        "plt.title('COVID Status vs Death Outcome')\n",
        "plt.xlabel('COVID Status')\n",
        "plt.ylabel('Count')\n",
        "plt.xticks([0, 1], ['Non-COVID', 'COVID'])\n",
        "\n",
        "plt.legend(title='Death Outcome', labels=['Not Dead', 'Dead'])\n",
        "\n",
        "plt.show()\n"
      ],
      "metadata": {
        "colab": {
          "base_uri": "https://localhost:8080/",
          "height": 564
        },
        "id": "mjVQQuZva9NW",
        "outputId": "bbcfad71-c322-4693-98f8-0d41772aad5a"
      },
      "execution_count": null,
      "outputs": [
        {
          "output_type": "display_data",
          "data": {
            "text/plain": [
              "<Figure size 800x600 with 1 Axes>"
            ],
            "image/png": "[encoded data removed]"
          },
          "metadata": {}
        }
      ]
    },
    {
      "cell_type": "markdown",
      "source": [
        "## Categorical Columns Distributions"
      ],
      "metadata": {
        "id": "VZ62mJcEUaar"
      }
    },
    {
      "cell_type": "markdown",
      "source": [
        "This whole section shows the distribution of values in categorical columns. Overly undistributed columns shall be dropped to reduce bias."
      ],
      "metadata": {
        "id": "L_K4BX2vgq31"
      }
    },
    {
      "cell_type": "code",
      "source": [
        "sns.countplot(x = 'ICU', data = df)\n",
        "plt.show()"
      ],
      "metadata": {
        "colab": {
          "base_uri": "https://localhost:8080/",
          "height": 449
        },
        "id": "FSKlp1_Vx5lm",
        "outputId": "9240aa71-114c-44bc-d033-4b066481b3dc"
      },
      "execution_count": null,
      "outputs": [
        {
          "output_type": "display_data",
          "data": {
            "text/plain": [
              "<Figure size 640x480 with 1 Axes>"
            ],
            "image/png": "[encoded data removed]"
          },
          "metadata": {}
        }
      ]
    },
    {
      "cell_type": "code",
      "source": [
        "sns.countplot(x = 'USMER', data = df)\n",
        "plt.show()"
      ],
      "metadata": {
        "colab": {
          "base_uri": "https://localhost:8080/",
          "height": 449
        },
        "id": "1JmSmksiHWlW",
        "outputId": "d7c6ffbc-6702-4ff2-a987-dc2a0c139789"
      },
      "execution_count": null,
      "outputs": [
        {
          "output_type": "display_data",
          "data": {
            "text/plain": [
              "<Figure size 640x480 with 1 Axes>"
            ],
            "image/png": "[encoded data removed]"
          },
          "metadata": {}
        }
      ]
    },
    {
      "cell_type": "code",
      "source": [
        "sns.countplot(x = 'MEDICAL_UNIT', data = df)\n",
        "plt.show()"
      ],
      "metadata": {
        "colab": {
          "base_uri": "https://localhost:8080/",
          "height": 449
        },
        "id": "2IWZbeD3HZ3v",
        "outputId": "f8001c7b-9556-4e85-ebd1-4fe586b946cb"
      },
      "execution_count": null,
      "outputs": [
        {
          "output_type": "display_data",
          "data": {
            "text/plain": [
              "<Figure size 640x480 with 1 Axes>"
            ],
            "image/png": "[encoded data removed]"
          },
          "metadata": {}
        }
      ]
    },
    {
      "cell_type": "code",
      "source": [
        "sns.countplot(x = 'SEX', data = df)\n",
        "plt.show()"
      ],
      "metadata": {
        "colab": {
          "base_uri": "https://localhost:8080/",
          "height": 449
        },
        "id": "VHem6uMAHcx7",
        "outputId": "704643ab-98d9-4345-9d5f-3541d019a59f"
      },
      "execution_count": null,
      "outputs": [
        {
          "output_type": "display_data",
          "data": {
            "text/plain": [
              "<Figure size 640x480 with 1 Axes>"
            ],
            "image/png": "[encoded data removed]"
          },
          "metadata": {}
        }
      ]
    },
    {
      "cell_type": "code",
      "source": [
        "sns.countplot(x = 'PATIENT_TYPE', data = df)\n",
        "plt.show()"
      ],
      "metadata": {
        "colab": {
          "base_uri": "https://localhost:8080/",
          "height": 449
        },
        "id": "tmWS_1vBHeOc",
        "outputId": "de1d2d09-ac27-4b39-d286-db7d792bf375"
      },
      "execution_count": null,
      "outputs": [
        {
          "output_type": "display_data",
          "data": {
            "text/plain": [
              "<Figure size 640x480 with 1 Axes>"
            ],
            "image/png": "[encoded data removed]"
          },
          "metadata": {}
        }
      ]
    },
    {
      "cell_type": "code",
      "source": [
        "sns.countplot(x = 'DIED', data = df)\n",
        "plt.show()"
      ],
      "metadata": {
        "colab": {
          "base_uri": "https://localhost:8080/",
          "height": 449
        },
        "id": "Ps6vyjbgHiB3",
        "outputId": "a536c838-c232-4d9e-e7e0-692ac469a638"
      },
      "execution_count": null,
      "outputs": [
        {
          "output_type": "display_data",
          "data": {
            "text/plain": [
              "<Figure size 640x480 with 1 Axes>"
            ],
            "image/png": "[encoded data removed]"
          },
          "metadata": {}
        }
      ]
    },
    {
      "cell_type": "code",
      "source": [
        "sns.countplot(x = 'INTUBED', data = df)\n",
        "plt.show()"
      ],
      "metadata": {
        "colab": {
          "base_uri": "https://localhost:8080/",
          "height": 449
        },
        "id": "cL_c_JkFHoQH",
        "outputId": "979bb0ee-3664-437d-e067-5b74d55da32c"
      },
      "execution_count": null,
      "outputs": [
        {
          "output_type": "display_data",
          "data": {
            "text/plain": [
              "<Figure size 640x480 with 1 Axes>"
            ],
            "image/png": "[encoded data removed]"
          },
          "metadata": {}
        }
      ]
    },
    {
      "cell_type": "code",
      "source": [
        "sns.countplot(x = 'PNEUMONIA', data = df)\n",
        "plt.show()"
      ],
      "metadata": {
        "colab": {
          "base_uri": "https://localhost:8080/",
          "height": 449
        },
        "id": "_IhOtXJhHq07",
        "outputId": "ea78ee34-80b7-4e9e-e841-59b887d0c77f"
      },
      "execution_count": null,
      "outputs": [
        {
          "output_type": "display_data",
          "data": {
            "text/plain": [
              "<Figure size 640x480 with 1 Axes>"
            ],
            "image/png": "[encoded data removed]"
          },
          "metadata": {}
        }
      ]
    },
    {
      "cell_type": "code",
      "source": [
        "sns.countplot(x = 'AGE', data = df)\n",
        "plt.show()"
      ],
      "metadata": {
        "colab": {
          "base_uri": "https://localhost:8080/",
          "height": 449
        },
        "id": "7myEoTtUIeUU",
        "outputId": "e7149e8d-7f1d-4345-e829-e6b7e3bbb2f9"
      },
      "execution_count": null,
      "outputs": [
        {
          "output_type": "display_data",
          "data": {
            "text/plain": [
              "<Figure size 640x480 with 1 Axes>"
            ],
            "image/png": "[encoded data removed]"
          },
          "metadata": {}
        }
      ]
    },
    {
      "cell_type": "code",
      "source": [
        "sns.countplot(x = 'PREGNANT', data = df)\n",
        "plt.show()"
      ],
      "metadata": {
        "colab": {
          "base_uri": "https://localhost:8080/",
          "height": 449
        },
        "id": "-lZs-f8MIgob",
        "outputId": "2491d0b2-515e-4d53-f669-0bc96892172b"
      },
      "execution_count": null,
      "outputs": [
        {
          "output_type": "display_data",
          "data": {
            "text/plain": [
              "<Figure size 640x480 with 1 Axes>"
            ],
            "image/png": "[encoded data removed]"
          },
          "metadata": {}
        }
      ]
    },
    {
      "cell_type": "code",
      "source": [
        "sns.countplot(x = 'DIABETES', data = df)\n",
        "plt.show()"
      ],
      "metadata": {
        "colab": {
          "base_uri": "https://localhost:8080/",
          "height": 449
        },
        "id": "MHI328zpIiO_",
        "outputId": "9d492732-bd6a-4c78-f8fd-a20769459049"
      },
      "execution_count": null,
      "outputs": [
        {
          "output_type": "display_data",
          "data": {
            "text/plain": [
              "<Figure size 640x480 with 1 Axes>"
            ],
            "image/png": "[encoded data removed]"
          },
          "metadata": {}
        }
      ]
    },
    {
      "cell_type": "code",
      "source": [
        "sns.countplot(x = 'COPD', data = df)\n",
        "plt.show()"
      ],
      "metadata": {
        "colab": {
          "base_uri": "https://localhost:8080/",
          "height": 449
        },
        "id": "En10uz3rIkSs",
        "outputId": "66910055-e632-49b3-b919-80476cc80c40"
      },
      "execution_count": null,
      "outputs": [
        {
          "output_type": "display_data",
          "data": {
            "text/plain": [
              "<Figure size 640x480 with 1 Axes>"
            ],
            "image/png": "[encoded data removed]"
          },
          "metadata": {}
        }
      ]
    },
    {
      "cell_type": "code",
      "source": [
        "sns.countplot(x = 'ASTHMA', data = df)\n",
        "plt.show()"
      ],
      "metadata": {
        "colab": {
          "base_uri": "https://localhost:8080/",
          "height": 449
        },
        "id": "JU4FYK1lIlqx",
        "outputId": "7ae9fa0c-b532-48be-8829-1b5b84d366bf"
      },
      "execution_count": null,
      "outputs": [
        {
          "output_type": "display_data",
          "data": {
            "text/plain": [
              "<Figure size 640x480 with 1 Axes>"
            ],
            "image/png": "[encoded data removed]"
          },
          "metadata": {}
        }
      ]
    },
    {
      "cell_type": "code",
      "source": [
        "sns.countplot(x = 'INMSUPR', data = df)\n",
        "plt.show()"
      ],
      "metadata": {
        "colab": {
          "base_uri": "https://localhost:8080/",
          "height": 449
        },
        "id": "vKqbNQF_IuNc",
        "outputId": "73de99bc-3310-44bd-fd96-b78e7b619d87"
      },
      "execution_count": null,
      "outputs": [
        {
          "output_type": "display_data",
          "data": {
            "text/plain": [
              "<Figure size 640x480 with 1 Axes>"
            ],
            "image/png": "[encoded data removed]"
          },
          "metadata": {}
        }
      ]
    },
    {
      "cell_type": "code",
      "source": [
        "sns.countplot(x = 'HYPERTENSION', data = df)\n",
        "plt.show()"
      ],
      "metadata": {
        "colab": {
          "base_uri": "https://localhost:8080/",
          "height": 449
        },
        "id": "0hRWRewGIxqR",
        "outputId": "e37d040e-b693-48bd-e3d0-163a8a389160"
      },
      "execution_count": null,
      "outputs": [
        {
          "output_type": "display_data",
          "data": {
            "text/plain": [
              "<Figure size 640x480 with 1 Axes>"
            ],
            "image/png": "[encoded data removed]"
          },
          "metadata": {}
        }
      ]
    },
    {
      "cell_type": "code",
      "source": [
        "sns.countplot(x = 'OTHER_DISEASE', data = df)\n",
        "plt.show()"
      ],
      "metadata": {
        "colab": {
          "base_uri": "https://localhost:8080/",
          "height": 449
        },
        "id": "-7hjtFnTI0lg",
        "outputId": "b9ca0d56-d89e-40e5-dce1-32123d7e4a68"
      },
      "execution_count": null,
      "outputs": [
        {
          "output_type": "display_data",
          "data": {
            "text/plain": [
              "<Figure size 640x480 with 1 Axes>"
            ],
            "image/png": "[encoded data removed]"
          },
          "metadata": {}
        }
      ]
    },
    {
      "cell_type": "code",
      "source": [
        "sns.countplot(x = 'CARDIOVASCULAR', data = df)\n",
        "plt.show()"
      ],
      "metadata": {
        "colab": {
          "base_uri": "https://localhost:8080/",
          "height": 449
        },
        "id": "f8-dihCZI3DT",
        "outputId": "184a76fe-53c9-49de-c182-7f3872dcfda3"
      },
      "execution_count": null,
      "outputs": [
        {
          "output_type": "display_data",
          "data": {
            "text/plain": [
              "<Figure size 640x480 with 1 Axes>"
            ],
            "image/png": "[encoded data removed]"
          },
          "metadata": {}
        }
      ]
    },
    {
      "cell_type": "code",
      "source": [
        "sns.countplot(x = 'OBESITY', data = df)\n",
        "plt.show()"
      ],
      "metadata": {
        "colab": {
          "base_uri": "https://localhost:8080/",
          "height": 449
        },
        "id": "TeTAsJOFI53Q",
        "outputId": "5df17a7f-eb6a-42d2-d9f8-7d9a7eaef2fc"
      },
      "execution_count": null,
      "outputs": [
        {
          "output_type": "display_data",
          "data": {
            "text/plain": [
              "<Figure size 640x480 with 1 Axes>"
            ],
            "image/png": "[encoded data removed]"
          },
          "metadata": {}
        }
      ]
    },
    {
      "cell_type": "code",
      "source": [
        "sns.countplot(x = 'RENAL_CHRONIC', data = df)\n",
        "plt.show()"
      ],
      "metadata": {
        "colab": {
          "base_uri": "https://localhost:8080/",
          "height": 449
        },
        "id": "kabfEELAI9IX",
        "outputId": "946f6a9a-221d-4a60-c112-891e1d1e7282"
      },
      "execution_count": null,
      "outputs": [
        {
          "output_type": "display_data",
          "data": {
            "text/plain": [
              "<Figure size 640x480 with 1 Axes>"
            ],
            "image/png": "[encoded data removed]"
          },
          "metadata": {}
        }
      ]
    },
    {
      "cell_type": "code",
      "source": [
        "sns.countplot(x = 'TOBACCO', data = df)\n",
        "plt.show()"
      ],
      "metadata": {
        "colab": {
          "base_uri": "https://localhost:8080/",
          "height": 449
        },
        "id": "q3x3S5eII_gC",
        "outputId": "7c194dbd-afff-4a85-c64c-6ada34ff8df6"
      },
      "execution_count": null,
      "outputs": [
        {
          "output_type": "display_data",
          "data": {
            "text/plain": [
              "<Figure size 640x480 with 1 Axes>"
            ],
            "image/png": "[encoded data removed]"
          },
          "metadata": {}
        }
      ]
    },
    {
      "cell_type": "markdown",
      "source": [
        "## Multiple Models"
      ],
      "metadata": {
        "id": "HKCKM09uPwhX"
      }
    },
    {
      "cell_type": "markdown",
      "source": [
        "Drops the columns with unequally distributed values"
      ],
      "metadata": {
        "id": "0ZvxPaKEhWLR"
      }
    },
    {
      "cell_type": "code",
      "source": [
        "df.drop(['COPD', 'ASTHMA', 'INMSUPR', 'OTHER_DISEASE', 'CARDIOVASCULAR', 'OBESITY', 'RENAL_CHRONIC', 'TOBACCO'], axis=1, inplace=True)"
      ],
      "metadata": {
        "id": "jJHNGzne0YTX"
      },
      "execution_count": null,
      "outputs": []
    },
    {
      "cell_type": "markdown",
      "source": [
        "Assign columns into features and target"
      ],
      "metadata": {
        "id": "gMPudW_hjdvm"
      }
    },
    {
      "cell_type": "code",
      "source": [
        "X = df.drop('CLASSIFICATION', axis=1)\n",
        "y = df['CLASSIFICATION']"
      ],
      "metadata": {
        "id": "vlMCWak3TKkf"
      },
      "execution_count": null,
      "outputs": []
    },
    {
      "cell_type": "markdown",
      "source": [
        "**Logistic Regression**"
      ],
      "metadata": {
        "id": "erJ8gvXXTYJZ"
      }
    },
    {
      "cell_type": "code",
      "source": [
        "kfold = KFold(n_splits=20, shuffle=True, random_state=42)"
      ],
      "metadata": {
        "id": "EiegpxodG0sV"
      },
      "execution_count": null,
      "outputs": []
    },
    {
      "cell_type": "code",
      "source": [
        "best_score = 0\n",
        "best_model = None\n",
        "\n",
        "for train_index, test_index in kfold.split(X):\n",
        "    X_train, X_test = X.iloc[train_index], X.iloc[test_index]\n",
        "    y_train, y_test = y.iloc[train_index], y.iloc[test_index]\n",
        "\n",
        "    model = LogisticRegression(solver='liblinear')\n",
        "    model.fit(X_train, y_train)\n",
        "    y_pred = model.predict(X_test)\n",
        "    accuracy = accuracy_score(y_test, y_pred)\n",
        "\n",
        "    if accuracy > best_score:\n",
        "        best_score = accuracy\n",
        "        best_model = model\n",
        "\n",
        "print(\"Best Accuracy:\", best_score)"
      ],
      "metadata": {
        "colab": {
          "base_uri": "https://localhost:8080/"
        },
        "id": "vrc9ul9qG1Sn",
        "outputId": "5eec67eb-bd4b-42c7-cf14-474ed1ef6073"
      },
      "execution_count": null,
      "outputs": [
        {
          "output_type": "stream",
          "name": "stdout",
          "text": [
            "Best Accuracy: 0.6638278798744958\n"
          ]
        }
      ]
    },
    {
      "cell_type": "code",
      "source": [
        "lr = LogisticRegression(solver='liblinear')\n",
        "kfold = KFold(n_splits=10, shuffle=True, random_state=32)"
      ],
      "metadata": {
        "id": "8vcJh5gBU5TQ"
      },
      "execution_count": null,
      "outputs": []
    },
    {
      "cell_type": "code",
      "source": [
        "best_score = 0\n",
        "best_model = None\n",
        "\n",
        "for train_index, test_index in kfold.split(X):\n",
        "    X_train, X_test = X.iloc[train_index], X.iloc[test_index]\n",
        "    y_train, y_test = y.iloc[train_index], y.iloc[test_index]\n",
        "\n",
        "    model = LogisticRegression(solver='liblinear')\n",
        "    model.fit(X_train, y_train)\n",
        "    y_pred = model.predict(X_test)\n",
        "    accuracy = accuracy_score(y_test, y_pred)\n",
        "\n",
        "    if accuracy > best_score:\n",
        "        best_score = accuracy\n",
        "        best_model = model\n",
        "\n",
        "print(\"Best Accuracy:\", best_score)"
      ],
      "metadata": {
        "colab": {
          "base_uri": "https://localhost:8080/"
        },
        "id": "VejpD62GU8d7",
        "outputId": "ead5a8b0-7752-4ddc-dbc5-b27320bb8032"
      },
      "execution_count": null,
      "outputs": [
        {
          "output_type": "stream",
          "name": "stdout",
          "text": [
            "Best Accuracy: 0.6607951234816907\n"
          ]
        }
      ]
    },
    {
      "cell_type": "markdown",
      "source": [
        "**Random Forest**"
      ],
      "metadata": {
        "id": "lSP7hHFFTkZ2"
      }
    },
    {
      "cell_type": "code",
      "source": [
        "rf = RandomForestClassifier(n_estimators=100, random_state=22)\n",
        "kfold = KFold(n_splits=20, shuffle=True, random_state=22)"
      ],
      "metadata": {
        "id": "0Nlr5y99TjvE"
      },
      "execution_count": null,
      "outputs": []
    },
    {
      "cell_type": "code",
      "source": [
        "best_score = 0\n",
        "best_model = None\n",
        "\n",
        "for train_index, test_index in kfold.split(X):\n",
        "    X_train, X_test = X.iloc[train_index], X.iloc[test_index]\n",
        "    y_train, y_test = y.iloc[train_index], y.iloc[test_index]\n",
        "\n",
        "    model = RandomForestClassifier(n_estimators=100, random_state=22)\n",
        "    model.fit(X_train, y_train)\n",
        "    y_pred = model.predict(X_test)\n",
        "    accuracy = accuracy_score(y_test, y_pred)\n",
        "\n",
        "    if accuracy > best_score:\n",
        "        best_score = accuracy\n",
        "        best_model = model\n",
        "\n",
        "print(\"Best Accuracy:\", best_score)"
      ],
      "metadata": {
        "colab": {
          "base_uri": "https://localhost:8080/"
        },
        "id": "IlF5y79qTf39",
        "outputId": "bee90f72-802d-4f4d-dc6d-dfb36be71133"
      },
      "execution_count": null,
      "outputs": [
        {
          "output_type": "stream",
          "name": "stdout",
          "text": [
            "Best Accuracy: 0.659345584939489\n"
          ]
        }
      ]
    },
    {
      "cell_type": "markdown",
      "source": [
        "**Bernoulli Naive Bayes**"
      ],
      "metadata": {
        "id": "1fEm-aLz95oX"
      }
    },
    {
      "cell_type": "code",
      "source": [
        "from sklearn.naive_bayes import BernoulliNB\n",
        "kf = KFold(n_splits=20, shuffle=True, random_state=42)\n",
        "best_score = 0\n",
        "best_model = None\n",
        "\n",
        "for train_index, test_index in kf.split(X):\n",
        "    X_train, X_test = X.iloc[train_index], X.iloc[test_index]\n",
        "    y_train, y_test = y.iloc[train_index], y.iloc[test_index]\n",
        "\n",
        "    model = BernoulliNB()\n",
        "    model.fit(X_train, y_train)\n",
        "    y_pred = model.predict(X_test)\n",
        "    accuracy = accuracy_score(y_test, y_pred)\n",
        "\n",
        "    if accuracy > best_score:\n",
        "        best_score = accuracy\n",
        "        best_model = model\n",
        "\n",
        "print(\"Best Accuracy:\", best_score)"
      ],
      "metadata": {
        "outputId": "4ed7f400-76af-42d0-9f78-8ac4cca778c9",
        "colab": {
          "base_uri": "https://localhost:8080/"
        },
        "id": "UMikR8rf93yO"
      },
      "execution_count": null,
      "outputs": [
        {
          "output_type": "stream",
          "name": "stdout",
          "text": [
            "Best Accuracy: 0.618018825638727\n"
          ]
        }
      ]
    },
    {
      "cell_type": "markdown",
      "source": [
        "## CatBoost Model"
      ],
      "metadata": {
        "id": "U55TuSiZl1iv"
      }
    },
    {
      "cell_type": "code",
      "source": [
        "from catboost import CatBoostClassifier\n",
        "\n",
        "kf = KFold(n_splits=10, shuffle=True, random_state=42)\n",
        "catboost_accuracies = []\n",
        "\n",
        "for train_index, test_index in kf.split(X):\n",
        "    X_train, X_test = X.iloc[train_index], X.iloc[test_index]\n",
        "    y_train, y_test = y.iloc[train_index], y.iloc[test_index]\n",
        "\n",
        "    model = CatBoostClassifier(iterations=500,\n",
        "                               learning_rate=0.1,\n",
        "                               depth=6,\n",
        "                               eval_metric='Accuracy',\n",
        "                               verbose=50,\n",
        "                               early_stopping_rounds=50)\n",
        "\n",
        "    model.fit(X_train, y_train, eval_set=(X_test, y_test), use_best_model=True, verbose=50)\n",
        "\n",
        "    y_pred = model.predict(X_test)\n",
        "    accuracy = accuracy_score(y_test, y_pred)\n",
        "\n",
        "    catboost_accuracies.append(accuracy)\n",
        "\n",
        "mean_accuracy = np.mean(catboost_accuracies)\n",
        "print(f\"CatBoost Average Accuracy with K-Fold: {mean_accuracy:.4f}\")\n"
      ],
      "metadata": {
        "id": "543HKOLpiDlm",
        "colab": {
          "base_uri": "https://localhost:8080/"
        },
        "outputId": "d6bcc51f-2c30-4a10-a7c3-513a27037884"
      },
      "execution_count": null,
      "outputs": [
        {
          "output_type": "stream",
          "name": "stdout",
          "text": [
            "0:\tlearn: 0.6520446\ttest: 0.6531756\tbest: 0.6531756 (0)\ttotal: 170ms\tremaining: 1m 24s\n",
            "50:\tlearn: 0.6655860\ttest: 0.6632155\tbest: 0.6637085 (32)\ttotal: 3.44s\tremaining: 30.3s\n",
            "100:\tlearn: 0.6676179\ttest: 0.6646497\tbest: 0.6655461 (72)\ttotal: 7.75s\tremaining: 30.6s\n",
            "150:\tlearn: 0.6683948\ttest: 0.6667563\tbest: 0.6667563 (150)\ttotal: 12.6s\tremaining: 29.1s\n",
            "200:\tlearn: 0.6693759\ttest: 0.6668460\tbest: 0.6670701 (154)\ttotal: 15s\tremaining: 22.4s\n",
            "Stopped by overfitting detector  (50 iterations wait)\n",
            "\n",
            "bestTest = 0.6670700551\n",
            "bestIteration = 154\n",
            "\n",
            "Shrink model to first 155 iterations.\n",
            "0:\tlearn: 0.6520845\ttest: 0.6528170\tbest: 0.6528170 (0)\ttotal: 42.9ms\tremaining: 21.4s\n",
            "50:\tlearn: 0.6657354\ttest: 0.6655013\tbest: 0.6658151 (48)\ttotal: 2.11s\tremaining: 18.6s\n",
            "100:\tlearn: 0.6672693\ttest: 0.6667115\tbest: 0.6670252 (74)\ttotal: 4.22s\tremaining: 16.7s\n",
            "150:\tlearn: 0.6684247\ttest: 0.6674286\tbest: 0.6674286 (147)\ttotal: 8.47s\tremaining: 19.6s\n",
            "200:\tlearn: 0.6689626\ttest: 0.6670252\tbest: 0.6675631 (174)\ttotal: 11.1s\tremaining: 16.6s\n",
            "Stopped by overfitting detector  (50 iterations wait)\n",
            "\n",
            "bestTest = 0.6675630855\n",
            "bestIteration = 174\n",
            "\n",
            "Shrink model to first 175 iterations.\n",
            "0:\tlearn: 0.6524929\ttest: 0.6490520\tbest: 0.6490520 (0)\ttotal: 41.6ms\tremaining: 20.8s\n",
            "50:\tlearn: 0.6661437\ttest: 0.6624535\tbest: 0.6624535 (50)\ttotal: 2.09s\tremaining: 18.4s\n",
            "100:\tlearn: 0.6675880\ttest: 0.6628121\tbest: 0.6635292 (91)\ttotal: 4.2s\tremaining: 16.6s\n",
            "Stopped by overfitting detector  (50 iterations wait)\n",
            "\n",
            "bestTest = 0.6635292008\n",
            "bestIteration = 91\n",
            "\n",
            "Shrink model to first 92 iterations.\n",
            "0:\tlearn: 0.6522787\ttest: 0.6510690\tbest: 0.6510690 (0)\ttotal: 45.8ms\tremaining: 22.9s\n",
            "50:\tlearn: 0.6655162\ttest: 0.6625880\tbest: 0.6629465 (36)\ttotal: 4.28s\tremaining: 37.7s\n",
            "100:\tlearn: 0.6672942\ttest: 0.6643360\tbest: 0.6647842 (89)\ttotal: 6.73s\tremaining: 26.6s\n",
            "Stopped by overfitting detector  (50 iterations wait)\n",
            "\n",
            "bestTest = 0.6647841872\n",
            "bestIteration = 89\n",
            "\n",
            "Shrink model to first 90 iterations.\n",
            "0:\tlearn: 0.6521908\ttest: 0.6518602\tbest: 0.6518602 (0)\ttotal: 47.2ms\tremaining: 23.6s\n",
            "50:\tlearn: 0.6654731\ttest: 0.6631107\tbest: 0.6640072 (39)\ttotal: 2.14s\tremaining: 18.8s\n",
            "100:\tlearn: 0.6669223\ttest: 0.6657104\tbest: 0.6657104 (99)\ttotal: 4.26s\tremaining: 16.8s\n",
            "150:\tlearn: 0.6680479\ttest: 0.6667862\tbest: 0.6667862 (150)\ttotal: 6.76s\tremaining: 15.6s\n",
            "200:\tlearn: 0.6688895\ttest: 0.6665621\tbest: 0.6672344 (183)\ttotal: 11.2s\tremaining: 16.6s\n",
            "250:\tlearn: 0.6694822\ttest: 0.6670103\tbest: 0.6675034 (245)\ttotal: 13.3s\tremaining: 13.2s\n",
            "Stopped by overfitting detector  (50 iterations wait)\n",
            "\n",
            "bestTest = 0.6675033617\n",
            "bestIteration = 245\n",
            "\n",
            "Shrink model to first 246 iterations.\n",
            "0:\tlearn: 0.6521958\ttest: 0.6518153\tbest: 0.6518153 (0)\ttotal: 41.2ms\tremaining: 20.6s\n",
            "50:\tlearn: 0.6656275\ttest: 0.6669655\tbest: 0.6669655 (50)\ttotal: 2.1s\tremaining: 18.5s\n",
            "100:\tlearn: 0.6673257\ttest: 0.6671448\tbest: 0.6673689 (98)\ttotal: 4.21s\tremaining: 16.6s\n",
            "150:\tlearn: 0.6683218\ttest: 0.6675930\tbest: 0.6681757 (121)\ttotal: 7.7s\tremaining: 17.8s\n",
            "Stopped by overfitting detector  (50 iterations wait)\n",
            "\n",
            "bestTest = 0.668175706\n",
            "bestIteration = 121\n",
            "\n",
            "Shrink model to first 122 iterations.\n",
            "0:\tlearn: 0.6524548\ttest: 0.6494845\tbest: 0.6494845 (0)\ttotal: 41.4ms\tremaining: 20.7s\n",
            "50:\tlearn: 0.6659761\ttest: 0.6586732\tbest: 0.6588525 (42)\ttotal: 2.1s\tremaining: 18.5s\n",
            "100:\tlearn: 0.6678437\ttest: 0.6597938\tbest: 0.6600179 (79)\ttotal: 4.18s\tremaining: 16.5s\n",
            "150:\tlearn: 0.6687899\ttest: 0.6604662\tbest: 0.6608247 (149)\ttotal: 6.29s\tremaining: 14.5s\n",
            "Stopped by overfitting detector  (50 iterations wait)\n",
            "\n",
            "bestTest = 0.6608247423\n",
            "bestIteration = 149\n",
            "\n",
            "Shrink model to first 150 iterations.\n",
            "0:\tlearn: 0.6518123\ttest: 0.6537427\tbest: 0.6537427 (0)\ttotal: 56.7ms\tremaining: 28.3s\n",
            "50:\tlearn: 0.6654233\ttest: 0.6643658\tbest: 0.6643658 (50)\ttotal: 3.99s\tremaining: 35.1s\n",
            "100:\tlearn: 0.6672510\ttest: 0.6672344\tbest: 0.6674137 (95)\ttotal: 6.9s\tremaining: 27.2s\n",
            "Stopped by overfitting detector  (50 iterations wait)\n",
            "\n",
            "bestTest = 0.6674137158\n",
            "bestIteration = 95\n",
            "\n",
            "Shrink model to first 96 iterations.\n",
            "0:\tlearn: 0.6517177\ttest: 0.6545944\tbest: 0.6545944 (0)\ttotal: 41.5ms\tremaining: 20.7s\n",
            "50:\tlearn: 0.6653486\ttest: 0.6653967\tbest: 0.6662035 (30)\ttotal: 2.12s\tremaining: 18.7s\n",
            "100:\tlearn: 0.6670468\ttest: 0.6668310\tbest: 0.6668310 (100)\ttotal: 4.47s\tremaining: 17.7s\n",
            "150:\tlearn: 0.6682969\ttest: 0.6669655\tbest: 0.6674137 (148)\ttotal: 7.69s\tremaining: 17.8s\n",
            "200:\tlearn: 0.6691186\ttest: 0.6671448\tbest: 0.6677723 (193)\ttotal: 11.6s\tremaining: 17.3s\n",
            "Stopped by overfitting detector  (50 iterations wait)\n",
            "\n",
            "bestTest = 0.6677722994\n",
            "bestIteration = 193\n",
            "\n",
            "Shrink model to first 194 iterations.\n",
            "0:\tlearn: 0.6519767\ttest: 0.6537875\tbest: 0.6537875 (0)\ttotal: 45.2ms\tremaining: 22.5s\n",
            "50:\tlearn: 0.6647808\ttest: 0.6708203\tbest: 0.6711788 (48)\ttotal: 2.15s\tremaining: 18.9s\n",
            "100:\tlearn: 0.6667779\ttest: 0.6723891\tbest: 0.6726580 (98)\ttotal: 4.25s\tremaining: 16.8s\n",
            "Stopped by overfitting detector  (50 iterations wait)\n",
            "\n",
            "bestTest = 0.6726580009\n",
            "bestIteration = 98\n",
            "\n",
            "Shrink model to first 99 iterations.\n",
            "CatBoost Average Accuracy with K-Fold: 0.6667\n"
          ]
        }
      ]
    },
    {
      "cell_type": "code",
      "source": [
        "from catboost import CatBoostClassifier\n",
        "\n",
        "kf = KFold(n_splits=20, shuffle=True, random_state=42)\n",
        "catboost_accuracies = []\n",
        "\n",
        "for train_index, test_index in kf.split(X):\n",
        "    X_train, X_test = X.iloc[train_index], X.iloc[test_index]\n",
        "    y_train, y_test = y.iloc[train_index], y.iloc[test_index]\n",
        "\n",
        "    model = CatBoostClassifier(iterations=500,\n",
        "                               learning_rate=0.1,\n",
        "                               depth=6,\n",
        "                               eval_metric='Accuracy',\n",
        "                               verbose=50,\n",
        "                               early_stopping_rounds=50)\n",
        "\n",
        "    model.fit(X_train, y_train, eval_set=(X_test, y_test), use_best_model=True, verbose=50)\n",
        "\n",
        "    y_pred = model.predict(X_test)\n",
        "    accuracy = accuracy_score(y_test, y_pred)\n",
        "\n",
        "    catboost_accuracies.append(accuracy)\n",
        "\n",
        "mean_accuracy = np.mean(catboost_accuracies)\n",
        "print(f\"CatBoost Average Accuracy with K-Fold: {mean_accuracy:.4f}\")\n"
      ],
      "metadata": {
        "colab": {
          "base_uri": "https://localhost:8080/"
        },
        "id": "tv376PTpl0b7",
        "outputId": "da12daa6-7bc2-403e-c079-9e113b877341"
      },
      "execution_count": null,
      "outputs": [
        {
          "output_type": "stream",
          "name": "stdout",
          "text": [
            "0:\tlearn: 0.6521741\ttest: 0.6518465\tbest: 0.6518465 (0)\ttotal: 37.7ms\tremaining: 18.8s\n",
            "50:\tlearn: 0.6657199\ttest: 0.6634098\tbest: 0.6634098 (48)\ttotal: 1.92s\tremaining: 16.9s\n",
            "100:\tlearn: 0.6674090\ttest: 0.6650233\tbest: 0.6652026 (67)\ttotal: 3.81s\tremaining: 15.1s\n",
            "150:\tlearn: 0.6685319\ttest: 0.6652026\tbest: 0.6661886 (131)\ttotal: 5.7s\tremaining: 13.2s\n",
            "Stopped by overfitting detector  (50 iterations wait)\n",
            "\n",
            "bestTest = 0.6661885981\n",
            "bestIteration = 131\n",
            "\n",
            "Shrink model to first 132 iterations.\n",
            "0:\tlearn: 0.6520373\ttest: 0.6544460\tbest: 0.6544460 (0)\ttotal: 85.9ms\tremaining: 42.8s\n",
            "50:\tlearn: 0.6655689\ttest: 0.6626031\tbest: 0.6634098 (20)\ttotal: 3.93s\tremaining: 34.6s\n",
            "100:\tlearn: 0.6671117\ttest: 0.6636787\tbest: 0.6641269 (88)\ttotal: 5.8s\tremaining: 22.9s\n",
            "150:\tlearn: 0.6682535\ttest: 0.6654715\tbest: 0.6654715 (150)\ttotal: 7.71s\tremaining: 17.8s\n",
            "200:\tlearn: 0.6690603\ttest: 0.6664575\tbest: 0.6664575 (200)\ttotal: 9.6s\tremaining: 14.3s\n",
            "250:\tlearn: 0.6697492\ttest: 0.6664575\tbest: 0.6673539 (242)\ttotal: 11.5s\tremaining: 11.5s\n",
            "Stopped by overfitting detector  (50 iterations wait)\n",
            "\n",
            "bestTest = 0.6673538903\n",
            "bestIteration = 242\n",
            "\n",
            "Shrink model to first 243 iterations.\n",
            "0:\tlearn: 0.6519099\ttest: 0.6538186\tbest: 0.6538186 (0)\ttotal: 37.6ms\tremaining: 18.8s\n",
            "50:\tlearn: 0.6655312\ttest: 0.6656508\tbest: 0.6663679 (34)\ttotal: 3.78s\tremaining: 33.3s\n",
            "Stopped by overfitting detector  (50 iterations wait)\n",
            "\n",
            "bestTest = 0.6663678738\n",
            "bestIteration = 34\n",
            "\n",
            "Shrink model to first 35 iterations.\n",
            "0:\tlearn: 0.6521836\ttest: 0.6516673\tbest: 0.6516673 (0)\ttotal: 37.4ms\tremaining: 18.7s\n",
            "50:\tlearn: 0.6660502\ttest: 0.6665471\tbest: 0.6665471 (50)\ttotal: 1.98s\tremaining: 17.4s\n",
            "100:\tlearn: 0.6676166\ttest: 0.6678917\tbest: 0.6682503 (95)\ttotal: 3.95s\tremaining: 15.6s\n",
            "150:\tlearn: 0.6685130\ttest: 0.6669057\tbest: 0.6683399 (113)\ttotal: 5.85s\tremaining: 13.5s\n",
            "Stopped by overfitting detector  (50 iterations wait)\n",
            "\n",
            "bestTest = 0.6683399068\n",
            "bestIteration = 113\n",
            "\n",
            "Shrink model to first 114 iterations.\n",
            "0:\tlearn: 0.6523834\ttest: 0.6478709\tbest: 0.6478709 (0)\ttotal: 37.7ms\tremaining: 18.8s\n",
            "50:\tlearn: 0.6658772\ttest: 0.6594352\tbest: 0.6596145 (48)\ttotal: 2.14s\tremaining: 18.9s\n",
            "100:\tlearn: 0.6675521\ttest: 0.6621246\tbest: 0.6621246 (100)\ttotal: 6.01s\tremaining: 23.7s\n",
            "150:\tlearn: 0.6685193\ttest: 0.6623039\tbest: 0.6624832 (105)\ttotal: 7.94s\tremaining: 18.4s\n",
            "Stopped by overfitting detector  (50 iterations wait)\n",
            "\n",
            "bestTest = 0.6624831914\n",
            "bestIteration = 105\n",
            "\n",
            "Shrink model to first 106 iterations.\n",
            "0:\tlearn: 0.6522418\ttest: 0.6505603\tbest: 0.6505603 (0)\ttotal: 40.4ms\tremaining: 20.1s\n",
            "50:\tlearn: 0.6653016\ttest: 0.6635589\tbest: 0.6644554 (48)\ttotal: 1.92s\tremaining: 16.9s\n",
            "100:\tlearn: 0.6674106\ttest: 0.6629314\tbest: 0.6648140 (58)\ttotal: 3.81s\tremaining: 15s\n",
            "Stopped by overfitting detector  (50 iterations wait)\n",
            "\n",
            "bestTest = 0.6648139848\n",
            "bestIteration = 58\n",
            "\n",
            "Shrink model to first 59 iterations.\n",
            "0:\tlearn: 0.6521946\ttest: 0.6514567\tbest: 0.6514567 (0)\ttotal: 37.9ms\tremaining: 18.9s\n",
            "50:\tlearn: 0.6646269\ttest: 0.6638279\tbest: 0.6650829 (45)\ttotal: 1.94s\tremaining: 17.1s\n",
            "100:\tlearn: 0.6672265\ttest: 0.6668758\tbest: 0.6677723 (97)\ttotal: 5.08s\tremaining: 20.1s\n",
            "150:\tlearn: 0.6684769\ttest: 0.6675930\tbest: 0.6683102 (146)\ttotal: 7.93s\tremaining: 18.3s\n",
            "200:\tlearn: 0.6690336\ttest: 0.6683102\tbest: 0.6688481 (183)\ttotal: 9.89s\tremaining: 14.7s\n",
            "Stopped by overfitting detector  (50 iterations wait)\n",
            "\n",
            "bestTest = 0.6688480502\n",
            "bestIteration = 183\n",
            "\n",
            "Shrink model to first 184 iterations.\n",
            "0:\tlearn: 0.6522371\ttest: 0.6506499\tbest: 0.6506499 (0)\ttotal: 39.8ms\tremaining: 19.9s\n",
            "50:\tlearn: 0.6651789\ttest: 0.6655312\tbest: 0.6658001 (49)\ttotal: 1.93s\tremaining: 17s\n",
            "100:\tlearn: 0.6670992\ttest: 0.6651726\tbest: 0.6665173 (61)\ttotal: 3.82s\tremaining: 15.1s\n",
            "Stopped by overfitting detector  (50 iterations wait)\n",
            "\n",
            "bestTest = 0.6665172568\n",
            "bestIteration = 61\n",
            "\n",
            "Shrink model to first 62 iterations.\n",
            "0:\tlearn: 0.6519540\ttest: 0.6560287\tbest: 0.6560287 (0)\ttotal: 37.8ms\tremaining: 18.9s\n",
            "50:\tlearn: 0.6654903\ttest: 0.6687584\tbest: 0.6687584 (50)\ttotal: 3.64s\tremaining: 32s\n",
            "100:\tlearn: 0.6670048\ttest: 0.6705513\tbest: 0.6707306 (97)\ttotal: 7.86s\tremaining: 31.1s\n",
            "Stopped by overfitting detector  (50 iterations wait)\n",
            "\n",
            "bestTest = 0.6707306141\n",
            "bestIteration = 97\n",
            "\n",
            "Shrink model to first 98 iterations.\n",
            "0:\tlearn: 0.6523928\ttest: 0.6476916\tbest: 0.6476916 (0)\ttotal: 37.6ms\tremaining: 18.8s\n",
            "50:\tlearn: 0.6656224\ttest: 0.6596145\tbest: 0.6600628 (43)\ttotal: 1.9s\tremaining: 16.7s\n",
            "100:\tlearn: 0.6674011\ttest: 0.6617660\tbest: 0.6623039 (92)\ttotal: 3.78s\tremaining: 14.9s\n",
            "150:\tlearn: 0.6682740\ttest: 0.6646347\tbest: 0.6649933 (143)\ttotal: 5.69s\tremaining: 13.1s\n",
            "200:\tlearn: 0.6689015\ttest: 0.6648140\tbest: 0.6651726 (174)\ttotal: 8.48s\tremaining: 12.6s\n",
            "Stopped by overfitting detector  (50 iterations wait)\n",
            "\n",
            "bestTest = 0.6651725684\n",
            "bestIteration = 174\n",
            "\n",
            "Shrink model to first 175 iterations.\n",
            "0:\tlearn: 0.6524022\ttest: 0.6475123\tbest: 0.6475123 (0)\ttotal: 38.7ms\tremaining: 19.3s\n",
            "50:\tlearn: 0.6654808\ttest: 0.6632004\tbest: 0.6636486 (46)\ttotal: 1.91s\tremaining: 16.8s\n",
            "100:\tlearn: 0.6675427\ttest: 0.6640072\tbest: 0.6649036 (93)\ttotal: 3.8s\tremaining: 15s\n",
            "150:\tlearn: 0.6682928\ttest: 0.6664276\tbest: 0.6664276 (145)\ttotal: 5.75s\tremaining: 13.3s\n",
            "200:\tlearn: 0.6690477\ttest: 0.6666069\tbest: 0.6673241 (160)\ttotal: 7.65s\tremaining: 11.4s\n",
            "Stopped by overfitting detector  (50 iterations wait)\n",
            "\n",
            "bestTest = 0.6673240699\n",
            "bestIteration = 160\n",
            "\n",
            "Shrink model to first 161 iterations.\n",
            "0:\tlearn: 0.6517842\ttest: 0.6562080\tbest: 0.6562080 (0)\ttotal: 44.7ms\tremaining: 22.3s\n",
            "50:\tlearn: 0.6647684\ttest: 0.6678619\tbest: 0.6686688 (39)\ttotal: 2.67s\tremaining: 23.5s\n",
            "100:\tlearn: 0.6670756\ttest: 0.6685791\tbest: 0.6688481 (67)\ttotal: 5.93s\tremaining: 23.4s\n",
            "Stopped by overfitting detector  (50 iterations wait)\n",
            "\n",
            "bestTest = 0.6688480502\n",
            "bestIteration = 67\n",
            "\n",
            "Shrink model to first 68 iterations.\n",
            "0:\tlearn: 0.6521758\ttest: 0.6518153\tbest: 0.6518153 (0)\ttotal: 39.2ms\tremaining: 19.6s\n",
            "50:\tlearn: 0.6655894\ttest: 0.6606006\tbest: 0.6607799 (45)\ttotal: 1.94s\tremaining: 17s\n",
            "100:\tlearn: 0.6672690\ttest: 0.6617660\tbest: 0.6624832 (69)\ttotal: 3.83s\tremaining: 15.1s\n",
            "150:\tlearn: 0.6685618\ttest: 0.6629314\tbest: 0.6636486 (120)\ttotal: 5.72s\tremaining: 13.2s\n",
            "Stopped by overfitting detector  (50 iterations wait)\n",
            "\n",
            "bestTest = 0.6636485881\n",
            "bestIteration = 120\n",
            "\n",
            "Shrink model to first 121 iterations.\n",
            "0:\tlearn: 0.6522890\ttest: 0.6466159\tbest: 0.6466159 (0)\ttotal: 37.8ms\tremaining: 18.8s\n",
            "50:\tlearn: 0.6659668\ttest: 0.6577320\tbest: 0.6577320 (47)\ttotal: 2.51s\tremaining: 22.1s\n",
            "100:\tlearn: 0.6679107\ttest: 0.6583595\tbest: 0.6586284 (97)\ttotal: 5.98s\tremaining: 23.6s\n",
            "150:\tlearn: 0.6687647\ttest: 0.6579113\tbest: 0.6593456 (131)\ttotal: 7.9s\tremaining: 18.3s\n",
            "Stopped by overfitting detector  (50 iterations wait)\n",
            "\n",
            "bestTest = 0.6593455849\n",
            "bestIteration = 131\n",
            "\n",
            "Shrink model to first 132 iterations.\n",
            "0:\tlearn: 0.6523739\ttest: 0.6480502\tbest: 0.6480502 (0)\ttotal: 37.8ms\tremaining: 18.9s\n",
            "50:\tlearn: 0.6656884\ttest: 0.6604213\tbest: 0.6604213 (50)\ttotal: 1.95s\tremaining: 17.1s\n",
            "100:\tlearn: 0.6673870\ttest: 0.6632004\tbest: 0.6637382 (89)\ttotal: 3.92s\tremaining: 15.5s\n",
            "Stopped by overfitting detector  (50 iterations wait)\n",
            "\n",
            "bestTest = 0.663738234\n",
            "bestIteration = 89\n",
            "\n",
            "Shrink model to first 90 iterations.\n",
            "0:\tlearn: 0.6517794\ttest: 0.6593456\tbest: 0.6593456 (0)\ttotal: 37.5ms\tremaining: 18.7s\n",
            "50:\tlearn: 0.6653110\ttest: 0.6688481\tbest: 0.6688481 (50)\ttotal: 3.81s\tremaining: 33.6s\n",
            "100:\tlearn: 0.6672596\ttest: 0.6697445\tbest: 0.6708203 (70)\ttotal: 5.94s\tremaining: 23.4s\n",
            "Stopped by overfitting detector  (50 iterations wait)\n",
            "\n",
            "bestTest = 0.67082026\n",
            "bestIteration = 70\n",
            "\n",
            "Shrink model to first 71 iterations.\n",
            "0:\tlearn: 0.6519068\ttest: 0.6569251\tbest: 0.6569251 (0)\ttotal: 38.1ms\tremaining: 19s\n",
            "50:\tlearn: 0.6654337\ttest: 0.6669655\tbest: 0.6678619 (46)\ttotal: 1.88s\tremaining: 16.6s\n",
            "100:\tlearn: 0.6671228\ttest: 0.6674137\tbest: 0.6685791 (89)\ttotal: 3.73s\tremaining: 14.7s\n",
            "Stopped by overfitting detector  (50 iterations wait)\n",
            "\n",
            "bestTest = 0.6685791125\n",
            "bestIteration = 89\n",
            "\n",
            "Shrink model to first 90 iterations.\n",
            "0:\tlearn: 0.6519918\ttest: 0.6522636\tbest: 0.6522636 (0)\ttotal: 37ms\tremaining: 18.4s\n",
            "50:\tlearn: 0.6650515\ttest: 0.6637382\tbest: 0.6637382 (50)\ttotal: 2.32s\tremaining: 20.4s\n",
            "100:\tlearn: 0.6672077\ttest: 0.6656208\tbest: 0.6659794 (98)\ttotal: 5.81s\tremaining: 22.9s\n",
            "150:\tlearn: 0.6681843\ttest: 0.6664276\tbest: 0.6664276 (150)\ttotal: 7.72s\tremaining: 17.8s\n",
            "200:\tlearn: 0.6690383\ttest: 0.6673241\tbest: 0.6675930 (195)\ttotal: 9.64s\tremaining: 14.3s\n",
            "Stopped by overfitting detector  (50 iterations wait)\n",
            "\n",
            "bestTest = 0.6675930076\n",
            "bestIteration = 195\n",
            "\n",
            "Shrink model to first 196 iterations.\n",
            "0:\tlearn: 0.6519493\ttest: 0.6561183\tbest: 0.6561183 (0)\ttotal: 37ms\tremaining: 18.5s\n",
            "50:\tlearn: 0.6648675\ttest: 0.6719857\tbest: 0.6723442 (49)\ttotal: 1.9s\tremaining: 16.8s\n",
            "100:\tlearn: 0.6667311\ttest: 0.6728821\tbest: 0.6737786 (86)\ttotal: 4.02s\tremaining: 15.9s\n",
            "Stopped by overfitting detector  (50 iterations wait)\n",
            "\n",
            "bestTest = 0.6737785746\n",
            "bestIteration = 86\n",
            "\n",
            "Shrink model to first 87 iterations.\n",
            "0:\tlearn: 0.6521946\ttest: 0.6514567\tbest: 0.6514567 (0)\ttotal: 39.2ms\tremaining: 19.6s\n",
            "50:\tlearn: 0.6650609\ttest: 0.6700134\tbest: 0.6700134 (50)\ttotal: 1.91s\tremaining: 16.9s\n",
            "100:\tlearn: 0.6667925\ttest: 0.6703720\tbest: 0.6716271 (74)\ttotal: 3.78s\tremaining: 14.9s\n",
            "Stopped by overfitting detector  (50 iterations wait)\n",
            "\n",
            "bestTest = 0.6716270731\n",
            "bestIteration = 74\n",
            "\n",
            "Shrink model to first 75 iterations.\n",
            "CatBoost Average Accuracy with K-Fold: 0.6671\n"
          ]
        }
      ]
    },
    {
      "cell_type": "code",
      "source": [
        "best_score = 0\n",
        "best_model = None\n",
        "\n",
        "for train_index, test_index in kfold.split(X):\n",
        "    X_train, X_test = X.iloc[train_index], X.iloc[test_index]\n",
        "    y_train, y_test = y.iloc[train_index], y.iloc[test_index]\n",
        "\n",
        "    model = CatBoostClassifier(iterations=500,\n",
        "                               learning_rate=0.1,\n",
        "                               depth=6,\n",
        "                               eval_metric='Accuracy',\n",
        "                               verbose=50,\n",
        "                               early_stopping_rounds=50)\n",
        "    model.fit(X_train, y_train)\n",
        "    y_pred = model.predict(X_test)\n",
        "    accuracy = accuracy_score(y_test, y_pred)\n",
        "\n",
        "    if accuracy > best_score:\n",
        "        best_score = accuracy\n",
        "        best_model = model\n",
        "\n",
        "print(\"Best Accuracy:\", best_score)"
      ],
      "metadata": {
        "colab": {
          "base_uri": "https://localhost:8080/"
        },
        "id": "h8GhSdhQxVms",
        "outputId": "f0f83529-f455-4fe0-9ab9-18c870ba493c"
      },
      "execution_count": null,
      "outputs": [
        {
          "output_type": "stream",
          "name": "stdout",
          "text": [
            "0:\tlearn: 0.6520750\ttotal: 90.7ms\tremaining: 45.3s\n",
            "50:\tlearn: 0.6652670\ttotal: 4.81s\tremaining: 42.4s\n",
            "100:\tlearn: 0.6674798\ttotal: 8.3s\tremaining: 32.8s\n",
            "150:\tlearn: 0.6683054\ttotal: 10.2s\tremaining: 23.6s\n",
            "200:\tlearn: 0.6691972\ttotal: 12.1s\tremaining: 18.1s\n",
            "250:\tlearn: 0.6698435\ttotal: 14.1s\tremaining: 13.9s\n",
            "300:\tlearn: 0.6704616\ttotal: 16s\tremaining: 10.6s\n",
            "350:\tlearn: 0.6709570\ttotal: 17.9s\tremaining: 7.59s\n",
            "400:\tlearn: 0.6712071\ttotal: 21.9s\tremaining: 5.4s\n",
            "450:\tlearn: 0.6715845\ttotal: 23.9s\tremaining: 2.59s\n",
            "499:\tlearn: 0.6718818\ttotal: 25.7s\tremaining: 0us\n",
            "0:\tlearn: 0.6523581\ttotal: 44.1ms\tremaining: 22s\n",
            "50:\tlearn: 0.6657199\ttotal: 1.93s\tremaining: 17s\n",
            "100:\tlearn: 0.6675788\ttotal: 3.83s\tremaining: 15.1s\n",
            "150:\tlearn: 0.6684423\ttotal: 5.72s\tremaining: 13.2s\n",
            "200:\tlearn: 0.6690084\ttotal: 9.67s\tremaining: 14.4s\n",
            "250:\tlearn: 0.6694331\ttotal: 11.6s\tremaining: 11.5s\n",
            "300:\tlearn: 0.6702116\ttotal: 13.5s\tremaining: 8.94s\n",
            "350:\tlearn: 0.6707777\ttotal: 15.4s\tremaining: 6.56s\n",
            "400:\tlearn: 0.6712637\ttotal: 17.4s\tremaining: 4.3s\n",
            "450:\tlearn: 0.6714855\ttotal: 19.3s\tremaining: 2.1s\n",
            "499:\tlearn: 0.6719054\ttotal: 22.8s\tremaining: 0us\n",
            "0:\tlearn: 0.6518344\ttotal: 85.5ms\tremaining: 42.7s\n",
            "50:\tlearn: 0.6652858\ttotal: 2.05s\tremaining: 18s\n",
            "100:\tlearn: 0.6669985\ttotal: 3.88s\tremaining: 15.3s\n",
            "150:\tlearn: 0.6680035\ttotal: 5.76s\tremaining: 13.3s\n",
            "200:\tlearn: 0.6687725\ttotal: 7.66s\tremaining: 11.4s\n",
            "250:\tlearn: 0.6695369\ttotal: 9.56s\tremaining: 9.48s\n",
            "300:\tlearn: 0.6700040\ttotal: 12.9s\tremaining: 8.51s\n",
            "350:\tlearn: 0.6705607\ttotal: 15.6s\tremaining: 6.61s\n",
            "400:\tlearn: 0.6709570\ttotal: 17.5s\tremaining: 4.32s\n",
            "450:\tlearn: 0.6713769\ttotal: 19.4s\tremaining: 2.1s\n",
            "499:\tlearn: 0.6718110\ttotal: 21.3s\tremaining: 0us\n",
            "0:\tlearn: 0.6521552\ttotal: 40.1ms\tremaining: 20s\n",
            "50:\tlearn: 0.6658190\ttotal: 1.91s\tremaining: 16.8s\n",
            "100:\tlearn: 0.6673665\ttotal: 5.06s\tremaining: 20s\n",
            "150:\tlearn: 0.6684328\ttotal: 7.85s\tremaining: 18.1s\n",
            "200:\tlearn: 0.6690745\ttotal: 9.74s\tremaining: 14.5s\n",
            "250:\tlearn: 0.6698152\ttotal: 11.7s\tremaining: 11.6s\n",
            "300:\tlearn: 0.6704333\ttotal: 13.5s\tremaining: 8.94s\n",
            "350:\tlearn: 0.6707966\ttotal: 15.4s\tremaining: 6.55s\n",
            "400:\tlearn: 0.6713958\ttotal: 17.8s\tremaining: 4.41s\n",
            "450:\tlearn: 0.6718676\ttotal: 21.4s\tremaining: 2.32s\n",
            "499:\tlearn: 0.6722498\ttotal: 23.3s\tremaining: 0us\n",
            "0:\tlearn: 0.6519587\ttotal: 39.1ms\tremaining: 19.5s\n",
            "50:\tlearn: 0.6654006\ttotal: 1.92s\tremaining: 16.9s\n",
            "100:\tlearn: 0.6670284\ttotal: 3.83s\tremaining: 15.2s\n",
            "150:\tlearn: 0.6680192\ttotal: 5.74s\tremaining: 13.3s\n",
            "200:\tlearn: 0.6690666\ttotal: 8.15s\tremaining: 12.1s\n",
            "250:\tlearn: 0.6695950\ttotal: 11.8s\tremaining: 11.7s\n",
            "300:\tlearn: 0.6700952\ttotal: 13.7s\tremaining: 9.04s\n",
            "350:\tlearn: 0.6706472\ttotal: 15.6s\tremaining: 6.63s\n",
            "400:\tlearn: 0.6711331\ttotal: 17.6s\tremaining: 4.33s\n",
            "450:\tlearn: 0.6716050\ttotal: 19.5s\tremaining: 2.12s\n",
            "499:\tlearn: 0.6720154\ttotal: 21.5s\tremaining: 0us\n",
            "0:\tlearn: 0.6519918\ttotal: 92.4ms\tremaining: 46.1s\n",
            "50:\tlearn: 0.6656365\ttotal: 3.67s\tremaining: 32.3s\n",
            "100:\tlearn: 0.6671228\ttotal: 5.55s\tremaining: 21.9s\n",
            "150:\tlearn: 0.6683212\ttotal: 7.49s\tremaining: 17.3s\n",
            "200:\tlearn: 0.6690477\ttotal: 9.45s\tremaining: 14.1s\n",
            "250:\tlearn: 0.6696139\ttotal: 11.4s\tremaining: 11.3s\n",
            "300:\tlearn: 0.6701612\ttotal: 13.3s\tremaining: 8.78s\n",
            "350:\tlearn: 0.6705953\ttotal: 17.2s\tremaining: 7.3s\n",
            "400:\tlearn: 0.6710105\ttotal: 19.2s\tremaining: 4.74s\n",
            "450:\tlearn: 0.6715012\ttotal: 21.1s\tremaining: 2.3s\n",
            "499:\tlearn: 0.6717937\ttotal: 23s\tremaining: 0us\n",
            "0:\tlearn: 0.6524258\ttotal: 39.2ms\tremaining: 19.5s\n",
            "50:\tlearn: 0.6651789\ttotal: 1.93s\tremaining: 17s\n",
            "100:\tlearn: 0.6674908\ttotal: 3.81s\tremaining: 15s\n",
            "150:\tlearn: 0.6683825\ttotal: 7.57s\tremaining: 17.5s\n",
            "200:\tlearn: 0.6691185\ttotal: 9.63s\tremaining: 14.3s\n",
            "250:\tlearn: 0.6698357\ttotal: 11.5s\tremaining: 11.4s\n",
            "300:\tlearn: 0.6706000\ttotal: 13.5s\tremaining: 8.93s\n",
            "350:\tlearn: 0.6710813\ttotal: 15.4s\tremaining: 6.55s\n",
            "400:\tlearn: 0.6716144\ttotal: 17.3s\tremaining: 4.28s\n",
            "450:\tlearn: 0.6720721\ttotal: 20.7s\tremaining: 2.25s\n",
            "499:\tlearn: 0.6725486\ttotal: 23.3s\tremaining: 0us\n",
            "0:\tlearn: 0.6520578\ttotal: 39.2ms\tremaining: 19.6s\n",
            "50:\tlearn: 0.6658300\ttotal: 1.94s\tremaining: 17.1s\n",
            "100:\tlearn: 0.6676134\ttotal: 3.88s\tremaining: 15.3s\n",
            "150:\tlearn: 0.6684485\ttotal: 5.81s\tremaining: 13.4s\n",
            "200:\tlearn: 0.6689770\ttotal: 7.75s\tremaining: 11.5s\n",
            "250:\tlearn: 0.6696658\ttotal: 11.2s\tremaining: 11.1s\n",
            "300:\tlearn: 0.6702178\ttotal: 15.4s\tremaining: 10.2s\n",
            "350:\tlearn: 0.6706425\ttotal: 17.8s\tremaining: 7.56s\n",
            "400:\tlearn: 0.6711096\ttotal: 19.8s\tremaining: 4.88s\n",
            "450:\tlearn: 0.6714587\ttotal: 21.8s\tremaining: 2.37s\n",
            "499:\tlearn: 0.6718503\ttotal: 23.7s\tremaining: 0us\n",
            "0:\tlearn: 0.6517889\ttotal: 52.9ms\tremaining: 26.4s\n",
            "50:\tlearn: 0.6649241\ttotal: 3.4s\tremaining: 29.9s\n",
            "100:\tlearn: 0.6671369\ttotal: 6.01s\tremaining: 23.7s\n",
            "150:\tlearn: 0.6680805\ttotal: 7.93s\tremaining: 18.3s\n",
            "200:\tlearn: 0.6687033\ttotal: 9.9s\tremaining: 14.7s\n",
            "250:\tlearn: 0.6694677\ttotal: 11.9s\tremaining: 11.8s\n",
            "300:\tlearn: 0.6699253\ttotal: 13.8s\tremaining: 9.14s\n",
            "350:\tlearn: 0.6702933\ttotal: 16.9s\tremaining: 7.18s\n",
            "400:\tlearn: 0.6707227\ttotal: 19.9s\tremaining: 4.91s\n",
            "450:\tlearn: 0.6712558\ttotal: 21.9s\tremaining: 2.38s\n",
            "499:\tlearn: 0.6716238\ttotal: 23.8s\tremaining: 0us\n",
            "0:\tlearn: 0.6523881\ttotal: 39.3ms\tremaining: 19.6s\n",
            "50:\tlearn: 0.6656696\ttotal: 1.92s\tremaining: 16.9s\n",
            "100:\tlearn: 0.6673162\ttotal: 3.87s\tremaining: 15.3s\n",
            "150:\tlearn: 0.6683778\ttotal: 7.04s\tremaining: 16.3s\n",
            "200:\tlearn: 0.6691657\ttotal: 9.93s\tremaining: 14.8s\n",
            "250:\tlearn: 0.6700810\ttotal: 11.9s\tremaining: 11.8s\n",
            "300:\tlearn: 0.6707840\ttotal: 13.8s\tremaining: 9.11s\n",
            "350:\tlearn: 0.6710954\ttotal: 15.7s\tremaining: 6.66s\n",
            "400:\tlearn: 0.6714870\ttotal: 17.6s\tremaining: 4.35s\n",
            "450:\tlearn: 0.6718409\ttotal: 20.4s\tremaining: 2.21s\n",
            "499:\tlearn: 0.6723080\ttotal: 23.7s\tremaining: 0us\n",
            "0:\tlearn: 0.6521050\ttotal: 38.4ms\tremaining: 19.2s\n",
            "50:\tlearn: 0.6651506\ttotal: 1.91s\tremaining: 16.8s\n",
            "100:\tlearn: 0.6674153\ttotal: 3.85s\tremaining: 15.2s\n",
            "150:\tlearn: 0.6682079\ttotal: 5.77s\tremaining: 13.3s\n",
            "200:\tlearn: 0.6687647\ttotal: 7.74s\tremaining: 11.5s\n",
            "250:\tlearn: 0.6694677\ttotal: 10.5s\tremaining: 10.4s\n",
            "300:\tlearn: 0.6701093\ttotal: 13.9s\tremaining: 9.18s\n",
            "350:\tlearn: 0.6707180\ttotal: 15.8s\tremaining: 6.71s\n",
            "400:\tlearn: 0.6712369\ttotal: 17.7s\tremaining: 4.38s\n",
            "450:\tlearn: 0.6717701\ttotal: 19.7s\tremaining: 2.14s\n",
            "499:\tlearn: 0.6721759\ttotal: 21.6s\tremaining: 0us\n",
            "0:\tlearn: 0.6522135\ttotal: 37.7ms\tremaining: 18.8s\n",
            "50:\tlearn: 0.6656554\ttotal: 2.92s\tremaining: 25.7s\n",
            "100:\tlearn: 0.6671369\ttotal: 6.05s\tremaining: 23.9s\n",
            "150:\tlearn: 0.6684438\ttotal: 8.01s\tremaining: 18.5s\n",
            "200:\tlearn: 0.6690430\ttotal: 9.91s\tremaining: 14.7s\n",
            "250:\tlearn: 0.6696705\ttotal: 11.9s\tremaining: 11.8s\n",
            "300:\tlearn: 0.6702933\ttotal: 13.8s\tremaining: 9.11s\n",
            "350:\tlearn: 0.6707651\ttotal: 16s\tremaining: 6.81s\n",
            "400:\tlearn: 0.6712888\ttotal: 19.8s\tremaining: 4.89s\n",
            "450:\tlearn: 0.6717324\ttotal: 21.7s\tremaining: 2.36s\n",
            "499:\tlearn: 0.6719730\ttotal: 23.6s\tremaining: 0us\n",
            "0:\tlearn: 0.6521805\ttotal: 39.7ms\tremaining: 19.8s\n",
            "50:\tlearn: 0.6655846\ttotal: 1.91s\tremaining: 16.8s\n",
            "100:\tlearn: 0.6671747\ttotal: 3.78s\tremaining: 14.9s\n",
            "150:\tlearn: 0.6679909\ttotal: 5.83s\tremaining: 13.5s\n",
            "200:\tlearn: 0.6688543\ttotal: 9.73s\tremaining: 14.5s\n",
            "250:\tlearn: 0.6696894\ttotal: 11.7s\tremaining: 11.6s\n",
            "300:\tlearn: 0.6700385\ttotal: 13.6s\tremaining: 9.02s\n",
            "350:\tlearn: 0.6706000\ttotal: 15.6s\tremaining: 6.6s\n",
            "400:\tlearn: 0.6711379\ttotal: 17.5s\tremaining: 4.31s\n",
            "450:\tlearn: 0.6715153\ttotal: 19.4s\tremaining: 2.11s\n",
            "499:\tlearn: 0.6719588\ttotal: 23.1s\tremaining: 0us\n",
            "0:\tlearn: 0.6517747\ttotal: 37.1ms\tremaining: 18.5s\n",
            "50:\tlearn: 0.6655139\ttotal: 1.92s\tremaining: 16.9s\n",
            "100:\tlearn: 0.6667783\ttotal: 3.8s\tremaining: 15s\n",
            "150:\tlearn: 0.6678116\ttotal: 5.71s\tremaining: 13.2s\n",
            "200:\tlearn: 0.6688071\ttotal: 7.62s\tremaining: 11.3s\n",
            "250:\tlearn: 0.6691798\ttotal: 9.55s\tremaining: 9.48s\n",
            "300:\tlearn: 0.6700621\ttotal: 13.2s\tremaining: 8.72s\n",
            "350:\tlearn: 0.6706802\ttotal: 15.6s\tremaining: 6.64s\n",
            "400:\tlearn: 0.6711662\ttotal: 17.6s\tremaining: 4.34s\n",
            "450:\tlearn: 0.6715295\ttotal: 19.5s\tremaining: 2.12s\n",
            "499:\tlearn: 0.6718833\ttotal: 21.4s\tremaining: 0us\n",
            "0:\tlearn: 0.6522937\ttotal: 40ms\tremaining: 20s\n",
            "50:\tlearn: 0.6657734\ttotal: 1.92s\tremaining: 16.9s\n",
            "100:\tlearn: 0.6670803\ttotal: 5.49s\tremaining: 21.7s\n",
            "150:\tlearn: 0.6682268\ttotal: 7.87s\tremaining: 18.2s\n",
            "200:\tlearn: 0.6690855\ttotal: 9.77s\tremaining: 14.5s\n",
            "250:\tlearn: 0.6698451\ttotal: 11.7s\tremaining: 11.6s\n",
            "300:\tlearn: 0.6703594\ttotal: 13.7s\tremaining: 9.03s\n",
            "350:\tlearn: 0.6707840\ttotal: 15.6s\tremaining: 6.61s\n",
            "400:\tlearn: 0.6713455\ttotal: 18.8s\tremaining: 4.63s\n",
            "450:\tlearn: 0.6717795\ttotal: 21.6s\tremaining: 2.34s\n",
            "499:\tlearn: 0.6721853\ttotal: 23.4s\tremaining: 0us\n",
            "0:\tlearn: 0.6522984\ttotal: 37.4ms\tremaining: 18.7s\n",
            "50:\tlearn: 0.6651176\ttotal: 1.93s\tremaining: 17s\n",
            "100:\tlearn: 0.6672218\ttotal: 3.81s\tremaining: 15.1s\n",
            "150:\tlearn: 0.6682457\ttotal: 5.71s\tremaining: 13.2s\n",
            "200:\tlearn: 0.6689392\ttotal: 8.79s\tremaining: 13.1s\n",
            "250:\tlearn: 0.6696328\ttotal: 11.7s\tremaining: 11.6s\n",
            "300:\tlearn: 0.6703877\ttotal: 13.7s\tremaining: 9.03s\n",
            "350:\tlearn: 0.6709256\ttotal: 15.6s\tremaining: 6.62s\n",
            "400:\tlearn: 0.6712983\ttotal: 17.5s\tremaining: 4.33s\n",
            "450:\tlearn: 0.6717559\ttotal: 20.2s\tremaining: 2.19s\n",
            "499:\tlearn: 0.6721853\ttotal: 24.5s\tremaining: 0us\n",
            "0:\tlearn: 0.6523881\ttotal: 89.4ms\tremaining: 44.6s\n",
            "50:\tlearn: 0.6655658\ttotal: 2.76s\tremaining: 24.3s\n",
            "100:\tlearn: 0.6672737\ttotal: 4.69s\tremaining: 18.5s\n",
            "150:\tlearn: 0.6685193\ttotal: 6.62s\tremaining: 15.3s\n",
            "200:\tlearn: 0.6693780\ttotal: 8.55s\tremaining: 12.7s\n",
            "250:\tlearn: 0.6700244\ttotal: 10.5s\tremaining: 10.4s\n",
            "300:\tlearn: 0.6703924\ttotal: 13.5s\tremaining: 8.91s\n",
            "350:\tlearn: 0.6710199\ttotal: 16.5s\tremaining: 7s\n",
            "400:\tlearn: 0.6715200\ttotal: 18.4s\tremaining: 4.55s\n",
            "450:\tlearn: 0.6720296\ttotal: 20.4s\tremaining: 2.22s\n",
            "499:\tlearn: 0.6724495\ttotal: 22.3s\tremaining: 0us\n",
            "0:\tlearn: 0.6519540\ttotal: 53.1ms\tremaining: 26.5s\n",
            "50:\tlearn: 0.6655705\ttotal: 1.92s\tremaining: 16.9s\n",
            "100:\tlearn: 0.6673303\ttotal: 4.92s\tremaining: 19.4s\n",
            "150:\tlearn: 0.6682362\ttotal: 7.68s\tremaining: 17.8s\n",
            "200:\tlearn: 0.6691798\ttotal: 9.62s\tremaining: 14.3s\n",
            "250:\tlearn: 0.6701093\ttotal: 11.6s\tremaining: 11.5s\n",
            "300:\tlearn: 0.6704679\ttotal: 13.5s\tremaining: 8.94s\n",
            "350:\tlearn: 0.6710010\ttotal: 15.5s\tremaining: 6.56s\n",
            "400:\tlearn: 0.6714021\ttotal: 18.3s\tremaining: 4.51s\n",
            "450:\tlearn: 0.6717465\ttotal: 21.5s\tremaining: 2.33s\n",
            "499:\tlearn: 0.6721664\ttotal: 23.3s\tremaining: 0us\n",
            "0:\tlearn: 0.6519823\ttotal: 43.5ms\tremaining: 21.7s\n",
            "50:\tlearn: 0.6656649\ttotal: 1.94s\tremaining: 17.1s\n",
            "100:\tlearn: 0.6673068\ttotal: 3.88s\tremaining: 15.3s\n",
            "150:\tlearn: 0.6684485\ttotal: 5.78s\tremaining: 13.4s\n",
            "200:\tlearn: 0.6690336\ttotal: 8.61s\tremaining: 12.8s\n",
            "250:\tlearn: 0.6696658\ttotal: 11.8s\tremaining: 11.7s\n",
            "300:\tlearn: 0.6703264\ttotal: 13.7s\tremaining: 9.07s\n",
            "350:\tlearn: 0.6705670\ttotal: 15.7s\tremaining: 6.66s\n",
            "400:\tlearn: 0.6710105\ttotal: 17.7s\tremaining: 4.36s\n",
            "450:\tlearn: 0.6713360\ttotal: 19.6s\tremaining: 2.13s\n",
            "499:\tlearn: 0.6715861\ttotal: 22.1s\tremaining: 0us\n",
            "0:\tlearn: 0.6520578\ttotal: 63.6ms\tremaining: 31.7s\n",
            "50:\tlearn: 0.6652780\ttotal: 3.27s\tremaining: 28.8s\n",
            "100:\tlearn: 0.6672926\ttotal: 5.15s\tremaining: 20.4s\n",
            "150:\tlearn: 0.6683117\ttotal: 7.07s\tremaining: 16.3s\n",
            "200:\tlearn: 0.6690242\ttotal: 9.01s\tremaining: 13.4s\n",
            "250:\tlearn: 0.6696658\ttotal: 11s\tremaining: 10.9s\n",
            "300:\tlearn: 0.6701423\ttotal: 13.3s\tremaining: 8.81s\n",
            "350:\tlearn: 0.6705387\ttotal: 17s\tremaining: 7.23s\n",
            "400:\tlearn: 0.6709444\ttotal: 19s\tremaining: 4.68s\n",
            "450:\tlearn: 0.6714540\ttotal: 20.9s\tremaining: 2.27s\n",
            "499:\tlearn: 0.6718267\ttotal: 22.8s\tremaining: 0us\n",
            "Best Accuracy: 0.6721649484536083\n"
          ]
        }
      ]
    },
    {
      "cell_type": "code",
      "source": [
        "best_score = 0\n",
        "best_model = None\n",
        "\n",
        "for train_index, test_index in kf.split(X):\n",
        "    X_train, X_test = X.iloc[train_index], X.iloc[test_index]\n",
        "    y_train, y_test = y.iloc[train_index], y.iloc[test_index]\n",
        "\n",
        "    model = CatBoostClassifier(iterations=250,\n",
        "                               learning_rate=0.1,\n",
        "                               depth=6,\n",
        "                               eval_metric='Accuracy',\n",
        "                               verbose=50,\n",
        "                               early_stopping_rounds=50)\n",
        "    model.fit(X_train, y_train)\n",
        "    y_pred = model.predict(X_test)\n",
        "    accuracy = accuracy_score(y_test, y_pred)\n",
        "\n",
        "    if accuracy > best_score:\n",
        "        best_score = accuracy\n",
        "        best_model = model\n",
        "\n",
        "print(\"Best Accuracy:\", best_score)"
      ],
      "metadata": {
        "outputId": "b98a6c27-04d2-48c8-f494-c4df0f1eed9c",
        "colab": {
          "base_uri": "https://localhost:8080/"
        },
        "id": "uC3dkHxlBRlq"
      },
      "execution_count": null,
      "outputs": [
        {
          "output_type": "stream",
          "name": "stdout",
          "text": [
            "0:\tlearn: 0.6551374\ttotal: 94.1ms\tremaining: 23.4s\n",
            "50:\tlearn: 0.6672245\ttotal: 2.5s\tremaining: 9.76s\n",
            "100:\tlearn: 0.6705861\ttotal: 4.75s\tremaining: 7.01s\n",
            "150:\tlearn: 0.6725334\ttotal: 6.95s\tremaining: 4.56s\n",
            "200:\tlearn: 0.6740374\ttotal: 9.19s\tremaining: 2.24s\n",
            "249:\tlearn: 0.6749787\ttotal: 12.4s\tremaining: 0us\n",
            "0:\tlearn: 0.6571544\ttotal: 60.4ms\tremaining: 15s\n",
            "50:\tlearn: 0.6674884\ttotal: 3.41s\tremaining: 13.3s\n",
            "100:\tlearn: 0.6704716\ttotal: 5.64s\tremaining: 8.32s\n",
            "150:\tlearn: 0.6718760\ttotal: 7.92s\tremaining: 5.19s\n",
            "200:\tlearn: 0.6733850\ttotal: 10.2s\tremaining: 2.48s\n",
            "249:\tlearn: 0.6745753\ttotal: 12.5s\tremaining: 0us\n",
            "0:\tlearn: 0.6559790\ttotal: 101ms\tremaining: 25.1s\n",
            "50:\tlearn: 0.6683251\ttotal: 4.46s\tremaining: 17.4s\n",
            "100:\tlearn: 0.6708750\ttotal: 6.68s\tremaining: 9.85s\n",
            "150:\tlearn: 0.6725135\ttotal: 8.93s\tremaining: 5.85s\n",
            "200:\tlearn: 0.6741271\ttotal: 11.2s\tremaining: 2.73s\n",
            "249:\tlearn: 0.6754618\ttotal: 13.4s\tremaining: 0us\n",
            "0:\tlearn: 0.6577570\ttotal: 91.1ms\tremaining: 22.7s\n",
            "50:\tlearn: 0.6679416\ttotal: 4.92s\tremaining: 19.2s\n",
            "100:\tlearn: 0.6709945\ttotal: 7.25s\tremaining: 10.7s\n",
            "150:\tlearn: 0.6725583\ttotal: 9.54s\tremaining: 6.26s\n",
            "200:\tlearn: 0.6738681\ttotal: 12.3s\tremaining: 3s\n",
            "249:\tlearn: 0.6750634\ttotal: 14.5s\tremaining: 0us\n",
            "0:\tlearn: 0.6577487\ttotal: 75.1ms\tremaining: 18.7s\n",
            "50:\tlearn: 0.6681425\ttotal: 4.79s\tremaining: 18.7s\n",
            "100:\tlearn: 0.6712850\ttotal: 7.18s\tremaining: 10.6s\n",
            "150:\tlearn: 0.6724055\ttotal: 11.2s\tremaining: 7.35s\n",
            "200:\tlearn: 0.6738199\ttotal: 14.3s\tremaining: 3.49s\n",
            "249:\tlearn: 0.6745371\ttotal: 18.3s\tremaining: 0us\n",
            "0:\tlearn: 0.6555325\ttotal: 108ms\tremaining: 26.9s\n",
            "50:\tlearn: 0.6678835\ttotal: 2.6s\tremaining: 10.1s\n",
            "100:\tlearn: 0.6710061\ttotal: 4.85s\tremaining: 7.16s\n",
            "150:\tlearn: 0.6728338\ttotal: 7.12s\tremaining: 4.67s\n",
            "200:\tlearn: 0.6739693\ttotal: 9.4s\tremaining: 2.29s\n",
            "249:\tlearn: 0.6752244\ttotal: 12.8s\tremaining: 0us\n",
            "0:\tlearn: 0.6557766\ttotal: 104ms\tremaining: 25.8s\n",
            "50:\tlearn: 0.6681176\ttotal: 3.4s\tremaining: 13.3s\n",
            "100:\tlearn: 0.6707422\ttotal: 5.62s\tremaining: 8.3s\n",
            "150:\tlearn: 0.6727890\ttotal: 7.86s\tremaining: 5.15s\n",
            "200:\tlearn: 0.6742233\ttotal: 10.2s\tremaining: 2.48s\n",
            "249:\tlearn: 0.6755331\ttotal: 12.9s\tremaining: 0us\n",
            "0:\tlearn: 0.6575993\ttotal: 94.1ms\tremaining: 23.4s\n",
            "50:\tlearn: 0.6673407\ttotal: 4.16s\tremaining: 16.2s\n",
            "100:\tlearn: 0.6705479\ttotal: 6.44s\tremaining: 9.5s\n",
            "150:\tlearn: 0.6720719\ttotal: 8.73s\tremaining: 5.72s\n",
            "200:\tlearn: 0.6734813\ttotal: 11s\tremaining: 2.69s\n",
            "249:\tlearn: 0.6748060\ttotal: 13.3s\tremaining: 0us\n",
            "0:\tlearn: 0.6549748\ttotal: 107ms\tremaining: 26.7s\n",
            "50:\tlearn: 0.6677988\ttotal: 4.7s\tremaining: 18.3s\n",
            "100:\tlearn: 0.6709712\ttotal: 7s\tremaining: 10.3s\n",
            "150:\tlearn: 0.6727342\ttotal: 9.31s\tremaining: 6.1s\n",
            "200:\tlearn: 0.6740590\ttotal: 11.6s\tremaining: 2.83s\n",
            "249:\tlearn: 0.6749803\ttotal: 13.9s\tremaining: 0us\n",
            "0:\tlearn: 0.6572009\ttotal: 70.3ms\tremaining: 17.5s\n",
            "50:\tlearn: 0.6675448\ttotal: 4.8s\tremaining: 18.7s\n",
            "100:\tlearn: 0.6702342\ttotal: 7.15s\tremaining: 10.5s\n",
            "150:\tlearn: 0.6719424\ttotal: 9.45s\tremaining: 6.2s\n",
            "200:\tlearn: 0.6736556\ttotal: 11.8s\tremaining: 2.87s\n",
            "249:\tlearn: 0.6745470\ttotal: 14s\tremaining: 0us\n",
            "Best Accuracy: 0.6740475123263111\n"
          ]
        }
      ]
    },
    {
      "cell_type": "code",
      "source": [
        "feature_importances = model.get_feature_importance()\n",
        "for feature_name, importance in zip(X.columns, feature_importances):\n",
        "    print(f\"{feature_name}: {importance:.4f}\")"
      ],
      "metadata": {
        "id": "ApfQaP5s15lf",
        "outputId": "85f5fd59-50a0-42e4-cabc-ce7d9f05af76",
        "colab": {
          "base_uri": "https://localhost:8080/"
        }
      },
      "execution_count": null,
      "outputs": [
        {
          "output_type": "stream",
          "name": "stdout",
          "text": [
            "USMER: 3.3062\n",
            "SEX: 0.1832\n",
            "PATIENT_TYPE: 5.0484\n",
            "DIED: 29.3060\n",
            "PNEUMONIA: 9.6952\n",
            "AGE: 10.6284\n",
            "DIABETES: 0.7378\n",
            "HYPERTENSION: 0.5681\n",
            "ICU_0: 7.7176\n",
            "ICU_1: 0.6426\n",
            "ICU_sent home: 1.4885\n",
            "INTUBED_0: 1.1786\n",
            "INTUBED_1: 3.7592\n",
            "INTUBED_sent home: 14.0318\n",
            "PREGNANT_0: 0.2363\n",
            "PREGNANT_1: 0.1602\n",
            "PREGNANT_male: 0.1527\n",
            "MEDICAL_UNIT_1: 0.0000\n",
            "MEDICAL_UNIT_2: 0.2148\n",
            "MEDICAL_UNIT_3: 0.6178\n",
            "MEDICAL_UNIT_4: 4.6074\n",
            "MEDICAL_UNIT_5: 0.1752\n",
            "MEDICAL_UNIT_6: 0.6468\n",
            "MEDICAL_UNIT_7: 0.0884\n",
            "MEDICAL_UNIT_8: 0.7042\n",
            "MEDICAL_UNIT_9: 1.3083\n",
            "MEDICAL_UNIT_10: 1.1992\n",
            "MEDICAL_UNIT_11: 0.8570\n",
            "MEDICAL_UNIT_12: 0.5975\n",
            "MEDICAL_UNIT_13: 0.1425\n"
          ]
        }
      ]
    },
    {
      "cell_type": "markdown",
      "source": [
        "## User Input 1"
      ],
      "metadata": {
        "id": "H0X0LT-Lh9n8"
      }
    },
    {
      "cell_type": "markdown",
      "source": [
        "If the patient died and was in a critical condition, the patient is most likely a COVID patient"
      ],
      "metadata": {
        "id": "iuBYizt6lhgq"
      }
    },
    {
      "cell_type": "code",
      "source": [
        "expected_columns = [\n",
        "    \"USMER\",\n",
        "    \"SEX\",\n",
        "    \"PATIENT_TYPE\",\n",
        "    \"DIED\",\n",
        "    \"PNEUMONIA\",\n",
        "    \"AGE\",\n",
        "    \"DIABETES\",\n",
        "    \"HYPERTENSION\",\n",
        "    \"ICU_0\", \"ICU_1\", \"ICU_sent home\",\n",
        "    \"INTUBED_0\", \"INTUBED_1\", \"INTUBED_sent home\",\n",
        "    \"PREGNANT_0\", \"PREGNANT_1\", \"PREGNANT_male\",\n",
        "    \"MEDICAL_UNIT_1\", \"MEDICAL_UNIT_2\", \"MEDICAL_UNIT_3\", \"MEDICAL_UNIT_4\", \"MEDICAL_UNIT_5\", \"MEDICAL_UNIT_6\",\n",
        "    \"MEDICAL_UNIT_7\", \"MEDICAL_UNIT_8\", \"MEDICAL_UNIT_9\", \"MEDICAL_UNIT_10\",\n",
        "    \"MEDICAL_UNIT_11\", \"MEDICAL_UNIT_12\", \"MEDICAL_UNIT_13\"\n",
        "    ]\n",
        "\n",
        "def one_hot_encode_fixed(input_data, expected_columns):\n",
        "    # Use pd.get_dummies to one-hot encode categorical columns\n",
        "    input_encoded = pd.get_dummies(input_data, columns=[\"SEX\", \"USMER\", \"PATIENT_TYPE\", \"DIED\", \"PNEUMONIA\", \"DIABETES\",\n",
        "                                                        \"HYPERTENSION\", \"ICU\", \"INTUBED\", \"PREGNANT\", \"MEDICAL_UNIT\"],\n",
        "                                   drop_first=False, dummy_na=False)\n",
        "\n",
        "    for col in expected_columns:\n",
        "        if col not in input_encoded:\n",
        "            input_encoded[col] = 0\n",
        "\n",
        "    input_encoded = input_encoded[expected_columns]\n",
        "\n",
        "    return input_encoded\n",
        "\n",
        "def predict_user_input():\n",
        "    input_data = {}\n",
        "\n",
        "    input_data['USMER'] = int(input(\"Is the patient in the USMER network? (0 for No, 1 for Yes): \"))\n",
        "    input_data['SEX'] = int(input(\"Enter sex (0 for male, 1 for female): \"))\n",
        "    input_data['PATIENT_TYPE'] = int(input(\"Was the patient admitted? (0 for sent home, 1 for hospitalized): \"))\n",
        "    input_data['DIED'] = int(input(\"Did the patient die? (0 for No, 1 for Yes): \"))\n",
        "    input_data['PNEUMONIA'] = int(input(\"Did the patient have pneumonia? (0 for No, 1 for Yes): \"))\n",
        "    input_data['AGE'] = float(input(\"Enter the patient's age: \"))\n",
        "    input_data['DIABETES'] = int(input(\"Does the patient have diabetes? (0 for No, 1 for Yes): \"))\n",
        "    input_data['HYPERTENSION'] = int(input(\"Does the patient have hypertension? (0 for No, 1 for Yes): \"))\n",
        "    if input_data['PATIENT_TYPE'] == 1:\n",
        "        input_data['ICU'] = int(input(\"Was the patient admitted to ICU? (0 for No, 1 for Yes): \"))\n",
        "        input_data['INTUBED'] = int(input(\"Was the patient intubated? (0 for No, 1 for Yes): \"))\n",
        "    else:\n",
        "      input_data['ICU'] = 'sent home'\n",
        "      input_data['INTUBED'] = 'sent home'\n",
        "\n",
        "    if input_data['SEX'] == 1:\n",
        "        input_data['PREGNANT'] = int(input(\"Is the patient pregnant? (0 for No, 1 for Yes): \"))\n",
        "    else:\n",
        "        input_data['PREGNANT'] = 'male'\n",
        "    input_data['MEDICAL_UNIT'] = input(\"Enter medical unit (1-13):\")\n",
        "\n",
        "    input_data = pd.DataFrame([input_data])\n",
        "\n",
        "    input_encoded = one_hot_encode_fixed(\n",
        "        input_data, expected_columns\n",
        "    )\n",
        "    prediction = best_model.predict(input_encoded)\n",
        "    return input_data, \"Non-COVID Patient\" if prediction[0] == 0 else \"COVID Patient\"\n",
        "\n",
        "input_data, prediction = predict_user_input()\n",
        "\n",
        "print(input_data)\n",
        "print(prediction)\n"
      ],
      "metadata": {
        "id": "umELdBWyYFVy",
        "colab": {
          "base_uri": "https://localhost:8080/"
        },
        "outputId": "5a84c67c-32af-4af1-f8ed-707e19a3905c"
      },
      "execution_count": null,
      "outputs": [
        {
          "output_type": "stream",
          "name": "stdout",
          "text": [
            "Is the patient in the USMER network? (0 for No, 1 for Yes): 1\n",
            "Enter sex (0 for male, 1 for female): 0\n",
            "Was the patient admitted? (0 for sent home, 1 for hospitalized): 1\n",
            "Did the patient die? (0 for No, 1 for Yes): 1\n",
            "Did the patient have pneumonia? (0 for No, 1 for Yes): 1\n",
            "Enter the patient's age: 56\n",
            "Does the patient have diabetes? (0 for No, 1 for Yes): 1\n",
            "Does the patient have hypertension? (0 for No, 1 for Yes): 1\n",
            "Was the patient admitted to ICU? (0 for No, 1 for Yes): 1\n",
            "Was the patient intubated? (0 for No, 1 for Yes): 1\n",
            "Enter medical unit (1-13):3\n",
            "   USMER  SEX  PATIENT_TYPE  DIED  PNEUMONIA   AGE  DIABETES  HYPERTENSION  \\\n",
            "0      1    0             1     1          1  56.0         1             1   \n",
            "\n",
            "   ICU  INTUBED PREGNANT MEDICAL_UNIT  \n",
            "0    1        1     male            3  \n",
            "COVID Patient\n"
          ]
        }
      ]
    },
    {
      "cell_type": "markdown",
      "source": [
        "## User Input 2"
      ],
      "metadata": {
        "id": "CcTuJUOFdyzp"
      }
    },
    {
      "cell_type": "markdown",
      "source": [
        "If the patient is alive and is not in critical condition, they're most likely a Non-COVID patient"
      ],
      "metadata": {
        "id": "Lvml6SoNm6SL"
      }
    },
    {
      "cell_type": "code",
      "source": [
        "expected_columns = [\n",
        "    \"USMER\",\n",
        "    \"SEX\",\n",
        "    \"PATIENT_TYPE\",\n",
        "    \"DIED\",\n",
        "    \"PNEUMONIA\",\n",
        "    \"AGE\",\n",
        "    \"DIABETES\",\n",
        "    \"HYPERTENSION\",\n",
        "    \"ICU_0\", \"ICU_1\", \"ICU_sent home\",\n",
        "    \"INTUBED_0\", \"INTUBED_1\", \"INTUBED_sent home\",\n",
        "    \"PREGNANT_0\", \"PREGNANT_1\", \"PREGNANT_male\",\n",
        "    \"MEDICAL_UNIT_1\", \"MEDICAL_UNIT_2\", \"MEDICAL_UNIT_3\", \"MEDICAL_UNIT_4\", \"MEDICAL_UNIT_5\", \"MEDICAL_UNIT_6\",\n",
        "    \"MEDICAL_UNIT_7\", \"MEDICAL_UNIT_8\", \"MEDICAL_UNIT_9\", \"MEDICAL_UNIT_10\",\n",
        "    \"MEDICAL_UNIT_11\", \"MEDICAL_UNIT_12\", \"MEDICAL_UNIT_13\"\n",
        "    ]\n",
        "\n",
        "def one_hot_encode_fixed(input_data, expected_columns):\n",
        "    # Use pd.get_dummies to one-hot encode categorical columns\n",
        "    input_encoded = pd.get_dummies(input_data, columns=[\"SEX\", \"USMER\", \"PATIENT_TYPE\", \"DIED\", \"PNEUMONIA\", \"DIABETES\",\n",
        "                                                        \"HYPERTENSION\", \"ICU\", \"INTUBED\", \"PREGNANT\", \"MEDICAL_UNIT\"],\n",
        "                                   drop_first=False, dummy_na=False)\n",
        "\n",
        "    for col in expected_columns:\n",
        "        if col not in input_encoded:\n",
        "            input_encoded[col] = 0\n",
        "\n",
        "    input_encoded = input_encoded[expected_columns]\n",
        "\n",
        "    return input_encoded\n",
        "\n",
        "def predict_user_input():\n",
        "    input_data = {}\n",
        "\n",
        "    input_data['USMER'] = int(input(\"Is the patient in the USMER network? (0 for No, 1 for Yes): \"))\n",
        "    input_data['SEX'] = int(input(\"Enter sex (0 for male, 1 for female): \"))\n",
        "    input_data['PATIENT_TYPE'] = int(input(\"Was the patient admitted? (0 for sent home, 1 for hospitalized): \"))\n",
        "    input_data['DIED'] = int(input(\"Did the patient die? (0 for No, 1 for Yes): \"))\n",
        "    input_data['PNEUMONIA'] = int(input(\"Did the patient have pneumonia? (0 for No, 1 for Yes): \"))\n",
        "    input_data['AGE'] = float(input(\"Enter the patient's age: \"))\n",
        "    input_data['DIABETES'] = int(input(\"Does the patient have diabetes? (0 for No, 1 for Yes): \"))\n",
        "    input_data['HYPERTENSION'] = int(input(\"Does the patient have hypertension? (0 for No, 1 for Yes): \"))\n",
        "    if input_data['PATIENT_TYPE'] == 1:\n",
        "        input_data['ICU'] = int(input(\"Was the patient admitted to ICU? (0 for No, 1 for Yes): \"))\n",
        "        input_data['INTUBED'] = int(input(\"Was the patient intubated? (0 for No, 1 for Yes): \"))\n",
        "    else:\n",
        "      input_data['ICU'] = 'sent home'\n",
        "      input_data['INTUBED'] = 'sent home'\n",
        "\n",
        "    if input_data['SEX'] == 1:\n",
        "        input_data['PREGNANT'] = int(input(\"Is the patient pregnant? (0 for No, 1 for Yes): \"))\n",
        "    else:\n",
        "        input_data['PREGNANT'] = 'male'\n",
        "    input_data['MEDICAL_UNIT'] = input(\"Enter medical unit (1-13):\")\n",
        "\n",
        "    input_data = pd.DataFrame([input_data])\n",
        "\n",
        "    input_encoded = one_hot_encode_fixed(\n",
        "        input_data, expected_columns\n",
        "    )\n",
        "    prediction = best_model.predict(input_encoded)\n",
        "    return input_data, \"Non-COVID Patient\" if prediction[0] == 0 else \"COVID Patient\"\n",
        "\n",
        "input_data, prediction = predict_user_input()\n",
        "\n",
        "print(input_data)\n",
        "print(prediction)\n"
      ],
      "metadata": {
        "colab": {
          "base_uri": "https://localhost:8080/"
        },
        "id": "UIZovufeXMZR",
        "outputId": "c71c4030-f522-456e-b5c7-d2c5bda40613"
      },
      "execution_count": null,
      "outputs": [
        {
          "output_type": "stream",
          "name": "stdout",
          "text": [
            "Is the patient in the USMER network? (0 for No, 1 for Yes): 0\n",
            "Enter sex (0 for male, 1 for female): 0\n",
            "Was the patient admitted? (0 for sent home, 1 for hospitalized): 0\n",
            "Did the patient die? (0 for No, 1 for Yes): 0\n",
            "Did the patient have pneumonia? (0 for No, 1 for Yes): 1\n",
            "Enter the patient's age: 76\n",
            "Does the patient have diabetes? (0 for No, 1 for Yes): 0\n",
            "Does the patient have hypertension? (0 for No, 1 for Yes): 1\n",
            "Enter medical unit (1-13):4\n",
            "   USMER  SEX  PATIENT_TYPE  DIED  PNEUMONIA   AGE  DIABETES  HYPERTENSION  \\\n",
            "0      0    0             0     0          1  76.0         0             1   \n",
            "\n",
            "         ICU    INTUBED PREGNANT MEDICAL_UNIT  \n",
            "0  sent home  sent home     male            4  \n",
            "Non-COVID Patient\n"
          ]
        }
      ]
    },
    {
      "cell_type": "markdown",
      "source": [
        "## User Input 3"
      ],
      "metadata": {
        "id": "n9yWfDrQd163"
      }
    },
    {
      "cell_type": "markdown",
      "source": [
        "If the patient died but wasn't in a critical condition, they're most likely a Non-COVID patient."
      ],
      "metadata": {
        "id": "0gOYb2erno85"
      }
    },
    {
      "cell_type": "code",
      "source": [
        "expected_columns = [\n",
        "    \"USMER\",\n",
        "    \"SEX\",\n",
        "    \"PATIENT_TYPE\",\n",
        "    \"DIED\",\n",
        "    \"PNEUMONIA\",\n",
        "    \"AGE\",\n",
        "    \"DIABETES\",\n",
        "    \"HYPERTENSION\",\n",
        "    \"ICU_0\", \"ICU_1\", \"ICU_sent home\",\n",
        "    \"INTUBED_0\", \"INTUBED_1\", \"INTUBED_sent home\",\n",
        "    \"PREGNANT_0\", \"PREGNANT_1\", \"PREGNANT_male\",\n",
        "    \"MEDICAL_UNIT_1\", \"MEDICAL_UNIT_2\", \"MEDICAL_UNIT_3\", \"MEDICAL_UNIT_4\", \"MEDICAL_UNIT_5\", \"MEDICAL_UNIT_6\",\n",
        "    \"MEDICAL_UNIT_7\", \"MEDICAL_UNIT_8\", \"MEDICAL_UNIT_9\", \"MEDICAL_UNIT_10\",\n",
        "    \"MEDICAL_UNIT_11\", \"MEDICAL_UNIT_12\", \"MEDICAL_UNIT_13\"\n",
        "    ]\n",
        "\n",
        "def one_hot_encode_fixed(input_data, expected_columns):\n",
        "    # Use pd.get_dummies to one-hot encode categorical columns\n",
        "    input_encoded = pd.get_dummies(input_data, columns=[\"SEX\", \"USMER\", \"PATIENT_TYPE\", \"DIED\", \"PNEUMONIA\", \"DIABETES\",\n",
        "                                                        \"HYPERTENSION\", \"ICU\", \"INTUBED\", \"PREGNANT\", \"MEDICAL_UNIT\"],\n",
        "                                   drop_first=False, dummy_na=False)\n",
        "\n",
        "    for col in expected_columns:\n",
        "        if col not in input_encoded:\n",
        "            input_encoded[col] = 0\n",
        "\n",
        "    input_encoded = input_encoded[expected_columns]\n",
        "\n",
        "    return input_encoded\n",
        "\n",
        "def predict_user_input():\n",
        "    input_data = {}\n",
        "\n",
        "    input_data['USMER'] = int(input(\"Is the patient in the USMER network? (0 for No, 1 for Yes): \"))\n",
        "    input_data['SEX'] = int(input(\"Enter sex (0 for male, 1 for female): \"))\n",
        "    input_data['PATIENT_TYPE'] = int(input(\"Was the patient admitted? (0 for sent home, 1 for hospitalized): \"))\n",
        "    input_data['DIED'] = int(input(\"Did the patient die? (0 for No, 1 for Yes): \"))\n",
        "    input_data['PNEUMONIA'] = int(input(\"Did the patient have pneumonia? (0 for No, 1 for Yes): \"))\n",
        "    input_data['AGE'] = float(input(\"Enter the patient's age: \"))\n",
        "    input_data['DIABETES'] = int(input(\"Does the patient have diabetes? (0 for No, 1 for Yes): \"))\n",
        "    input_data['HYPERTENSION'] = int(input(\"Does the patient have hypertension? (0 for No, 1 for Yes): \"))\n",
        "    if input_data['PATIENT_TYPE'] == 1:\n",
        "        input_data['ICU'] = int(input(\"Was the patient admitted to ICU? (0 for No, 1 for Yes): \"))\n",
        "        input_data['INTUBED'] = int(input(\"Was the patient intubated? (0 for No, 1 for Yes): \"))\n",
        "    else:\n",
        "      input_data['ICU'] = 'sent home'\n",
        "      input_data['INTUBED'] = 'sent home'\n",
        "\n",
        "    if input_data['SEX'] == 1:\n",
        "        input_data['PREGNANT'] = int(input(\"Is the patient pregnant? (0 for No, 1 for Yes): \"))\n",
        "    else:\n",
        "        input_data['PREGNANT'] = 'male'\n",
        "    input_data['MEDICAL_UNIT'] = input(\"Enter medical unit (1-13):\")\n",
        "\n",
        "    input_data = pd.DataFrame([input_data])\n",
        "\n",
        "    input_encoded = one_hot_encode_fixed(\n",
        "        input_data, expected_columns\n",
        "    )\n",
        "    prediction = best_model.predict(input_encoded)\n",
        "    return input_data, \"Non-COVID Patient\" if prediction[0] == 0 else \"COVID Patient\"\n",
        "\n",
        "input_data, prediction = predict_user_input()\n",
        "\n",
        "print(input_data)\n",
        "print(prediction)\n"
      ],
      "metadata": {
        "colab": {
          "base_uri": "https://localhost:8080/"
        },
        "id": "T-wvi8zCddhe",
        "outputId": "834622ec-97ab-4504-c810-c49d031fde1a"
      },
      "execution_count": null,
      "outputs": [
        {
          "output_type": "stream",
          "name": "stdout",
          "text": [
            "Is the patient in the USMER network? (0 for No, 1 for Yes): 0\n",
            "Enter sex (0 for male, 1 for female): 0\n",
            "Was the patient admitted? (0 for sent home, 1 for hospitalized): 0\n",
            "Did the patient die? (0 for No, 1 for Yes): 1\n",
            "Did the patient have pneumonia? (0 for No, 1 for Yes): 0\n",
            "Enter the patient's age: 87\n",
            "Does the patient have diabetes? (0 for No, 1 for Yes): 0\n",
            "Does the patient have hypertension? (0 for No, 1 for Yes): 0\n",
            "Enter medical unit (1-13):3\n",
            "   USMER  SEX  PATIENT_TYPE  DIED  PNEUMONIA   AGE  DIABETES  HYPERTENSION  \\\n",
            "0      0    0             0     1          0  87.0         0             0   \n",
            "\n",
            "         ICU    INTUBED PREGNANT MEDICAL_UNIT  \n",
            "0  sent home  sent home     male            3  \n",
            "Non-COVID Patient\n"
          ]
        }
      ]
    },
    {
      "cell_type": "markdown",
      "source": [
        "## User Input 4"
      ],
      "metadata": {
        "id": "LMMW4mExGdEA"
      }
    },
    {
      "cell_type": "markdown",
      "source": [
        "If the patient is alive and is in a critical condition, they're most likely a COVID patient."
      ],
      "metadata": {
        "id": "OQcc5JAwn2cC"
      }
    },
    {
      "cell_type": "code",
      "source": [
        "expected_columns = [\n",
        "    \"USMER\",\n",
        "    \"SEX\",\n",
        "    \"PATIENT_TYPE\",\n",
        "    \"DIED\",\n",
        "    \"PNEUMONIA\",\n",
        "    \"AGE\",\n",
        "    \"DIABETES\",\n",
        "    \"HYPERTENSION\",\n",
        "    \"ICU_0\", \"ICU_1\", \"ICU_sent home\",\n",
        "    \"INTUBED_0\", \"INTUBED_1\", \"INTUBED_sent home\",\n",
        "    \"PREGNANT_0\", \"PREGNANT_1\", \"PREGNANT_male\",\n",
        "    \"MEDICAL_UNIT_1\", \"MEDICAL_UNIT_2\", \"MEDICAL_UNIT_3\", \"MEDICAL_UNIT_4\", \"MEDICAL_UNIT_5\", \"MEDICAL_UNIT_6\",\n",
        "    \"MEDICAL_UNIT_7\", \"MEDICAL_UNIT_8\", \"MEDICAL_UNIT_9\", \"MEDICAL_UNIT_10\",\n",
        "    \"MEDICAL_UNIT_11\", \"MEDICAL_UNIT_12\", \"MEDICAL_UNIT_13\"\n",
        "    ]\n",
        "\n",
        "def one_hot_encode_fixed(input_data, expected_columns):\n",
        "    # Use pd.get_dummies to one-hot encode categorical columns\n",
        "    input_encoded = pd.get_dummies(input_data, columns=[\"SEX\", \"USMER\", \"PATIENT_TYPE\", \"DIED\", \"PNEUMONIA\", \"DIABETES\",\n",
        "                                                        \"HYPERTENSION\", \"ICU\", \"INTUBED\", \"PREGNANT\", \"MEDICAL_UNIT\"],\n",
        "                                   drop_first=False, dummy_na=False)\n",
        "\n",
        "    for col in expected_columns:\n",
        "        if col not in input_encoded:\n",
        "            input_encoded[col] = 0\n",
        "\n",
        "    input_encoded = input_encoded[expected_columns]\n",
        "\n",
        "    return input_encoded\n",
        "\n",
        "def predict_user_input():\n",
        "    input_data = {}\n",
        "\n",
        "    input_data['USMER'] = int(input(\"Is the patient in the USMER network? (0 for No, 1 for Yes): \"))\n",
        "    input_data['SEX'] = int(input(\"Enter sex (0 for male, 1 for female): \"))\n",
        "    input_data['PATIENT_TYPE'] = int(input(\"Was the patient admitted? (0 for sent home, 1 for hospitalized): \"))\n",
        "    input_data['DIED'] = int(input(\"Did the patient die? (0 for No, 1 for Yes): \"))\n",
        "    input_data['PNEUMONIA'] = int(input(\"Did the patient have pneumonia? (0 for No, 1 for Yes): \"))\n",
        "    input_data['AGE'] = float(input(\"Enter the patient's age: \"))\n",
        "    input_data['DIABETES'] = int(input(\"Does the patient have diabetes? (0 for No, 1 for Yes): \"))\n",
        "    input_data['HYPERTENSION'] = int(input(\"Does the patient have hypertension? (0 for No, 1 for Yes): \"))\n",
        "    if input_data['PATIENT_TYPE'] == 1:\n",
        "        input_data['ICU'] = int(input(\"Was the patient admitted to ICU? (0 for No, 1 for Yes): \"))\n",
        "        input_data['INTUBED'] = int(input(\"Was the patient intubated? (0 for No, 1 for Yes): \"))\n",
        "    else:\n",
        "      input_data['ICU'] = 'sent home'\n",
        "      input_data['INTUBED'] = 'sent home'\n",
        "\n",
        "    if input_data['SEX'] == 1:\n",
        "        input_data['PREGNANT'] = int(input(\"Is the patient pregnant? (0 for No, 1 for Yes): \"))\n",
        "    else:\n",
        "        input_data['PREGNANT'] = 'male'\n",
        "    input_data['MEDICAL_UNIT'] = input(\"Enter medical unit (1-13):\")\n",
        "\n",
        "    input_data = pd.DataFrame([input_data])\n",
        "\n",
        "    input_encoded = one_hot_encode_fixed(\n",
        "        input_data, expected_columns\n",
        "    )\n",
        "    prediction = best_model.predict(input_encoded)\n",
        "    return input_data, \"Non-COVID Patient\" if prediction[0] == 0 else \"COVID Patient\"\n",
        "\n",
        "input_data, prediction = predict_user_input()\n",
        "\n",
        "print(input_data)\n",
        "print(prediction)\n"
      ],
      "metadata": {
        "id": "pluT37chDnxz",
        "outputId": "4d68bf5a-10f2-4d62-ebce-47dba715a242",
        "colab": {
          "base_uri": "https://localhost:8080/"
        }
      },
      "execution_count": null,
      "outputs": [
        {
          "output_type": "stream",
          "name": "stdout",
          "text": [
            "Is the patient in the USMER network? (0 for No, 1 for Yes): 1\n",
            "Enter sex (0 for male, 1 for female): 0\n",
            "Was the patient admitted? (0 for sent home, 1 for hospitalized): 1\n",
            "Did the patient die? (0 for No, 1 for Yes): 0\n",
            "Did the patient have pneumonia? (0 for No, 1 for Yes): 1\n",
            "Enter the patient's age: 76\n",
            "Does the patient have diabetes? (0 for No, 1 for Yes): 1\n",
            "Does the patient have hypertension? (0 for No, 1 for Yes): 1\n",
            "Was the patient admitted to ICU? (0 for No, 1 for Yes): 1\n",
            "Was the patient intubated? (0 for No, 1 for Yes): 1\n",
            "Enter medical unit (1-13):3\n",
            "   USMER  SEX  PATIENT_TYPE  DIED  PNEUMONIA   AGE  DIABETES  HYPERTENSION  \\\n",
            "0      1    0             1     0          1  76.0         1             1   \n",
            "\n",
            "   ICU  INTUBED PREGNANT MEDICAL_UNIT  \n",
            "0    1        1     male            3  \n",
            "COVID Patient\n"
          ]
        }
      ]
    }
  ]
}